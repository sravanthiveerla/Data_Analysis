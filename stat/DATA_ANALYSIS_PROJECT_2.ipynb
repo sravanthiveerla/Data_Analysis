{
 "cells": [
  {
   "cell_type": "code",
   "execution_count": 26,
   "id": "cd39e5ba",
   "metadata": {},
   "outputs": [],
   "source": [
    "import pandas as pd \n",
    "import numpy as np\n",
    "import matplotlib.pyplot as plt \n",
    "import seaborn as sns\n",
    "import scipy as s\n",
    "import scipy.stats as ss\n"
   ]
  },
  {
   "cell_type": "code",
   "execution_count": null,
   "id": "abf7b254",
   "metadata": {},
   "outputs": [],
   "source": []
  },
  {
   "cell_type": "markdown",
   "id": "563bb4a5",
   "metadata": {},
   "source": [
    "## A new city manager for Airbnb has started in Dublin and wants to better understand:\n",
    "\n"
   ]
  },
  {
   "cell_type": "code",
   "execution_count": 60,
   "id": "31cb9b42",
   "metadata": {},
   "outputs": [],
   "source": [
    "contacts_data = (\"contacts.tsv\")"
   ]
  },
  {
   "cell_type": "code",
   "execution_count": 61,
   "id": "d1460e92",
   "metadata": {},
   "outputs": [],
   "source": [
    "contacts = pd.read_csv(\"contacts.tsv\",sep=\"\\t\")"
   ]
  },
  {
   "cell_type": "code",
   "execution_count": 62,
   "id": "97b0da06",
   "metadata": {},
   "outputs": [
    {
     "data": {
      "text/html": [
       "<div>\n",
       "<style scoped>\n",
       "    .dataframe tbody tr th:only-of-type {\n",
       "        vertical-align: middle;\n",
       "    }\n",
       "\n",
       "    .dataframe tbody tr th {\n",
       "        vertical-align: top;\n",
       "    }\n",
       "\n",
       "    .dataframe thead th {\n",
       "        text-align: right;\n",
       "    }\n",
       "</style>\n",
       "<table border=\"1\" class=\"dataframe\">\n",
       "  <thead>\n",
       "    <tr style=\"text-align: right;\">\n",
       "      <th></th>\n",
       "      <th>id_guest</th>\n",
       "      <th>id_host</th>\n",
       "      <th>id_listing</th>\n",
       "      <th>ts_contact_at</th>\n",
       "      <th>ts_reply_at</th>\n",
       "      <th>ts_accepted_at</th>\n",
       "      <th>ts_booking_at</th>\n",
       "      <th>ds_checkin</th>\n",
       "      <th>ds_checkout</th>\n",
       "      <th>n_guests</th>\n",
       "      <th>n_messages</th>\n",
       "    </tr>\n",
       "  </thead>\n",
       "  <tbody>\n",
       "    <tr>\n",
       "      <th>0</th>\n",
       "      <td>000dfad9-459b-4f0b-8310-3d6ab34e4f57</td>\n",
       "      <td>13bb24b8-d432-43a2-9755-5ea11b43bb69</td>\n",
       "      <td>21d2b1a2-fdc3-4b4c-a1f0-0eaf0cc02370</td>\n",
       "      <td>2014-10-04 16:26:28.0</td>\n",
       "      <td>2014-10-04 16:26:28.0</td>\n",
       "      <td>2014-10-04 16:26:28.0</td>\n",
       "      <td>2014-10-04 16:26:28.0</td>\n",
       "      <td>2014-10-13</td>\n",
       "      <td>2014-10-15</td>\n",
       "      <td>2</td>\n",
       "      <td>13</td>\n",
       "    </tr>\n",
       "    <tr>\n",
       "      <th>1</th>\n",
       "      <td>00197051-c6cb-4c3a-99e9-86615b819874</td>\n",
       "      <td>46aa3897-9c00-4d76-ac66-a307593d0675</td>\n",
       "      <td>fb5ed09a-9848-4f2c-b2ef-34deb62164fb</td>\n",
       "      <td>2014-11-04 09:10:03.0</td>\n",
       "      <td>2014-11-04 09:45:50.0</td>\n",
       "      <td>2014-11-04 09:45:50.0</td>\n",
       "      <td>2014-11-04 12:20:46.0</td>\n",
       "      <td>2014-11-27</td>\n",
       "      <td>2014-11-30</td>\n",
       "      <td>1</td>\n",
       "      <td>10</td>\n",
       "    </tr>\n",
       "    <tr>\n",
       "      <th>2</th>\n",
       "      <td>0027538e-aa9e-4a02-8979-b8397e5d4cba</td>\n",
       "      <td>6bbb88ca-db66-48c5-9c4b-862f7706284a</td>\n",
       "      <td>d3871da6-8012-4dc4-b508-c91f2c10c297</td>\n",
       "      <td>2014-10-10 12:02:50.0</td>\n",
       "      <td>2014-10-10 15:07:01.0</td>\n",
       "      <td>NaN</td>\n",
       "      <td>NaN</td>\n",
       "      <td>2014-10-17</td>\n",
       "      <td>2014-10-19</td>\n",
       "      <td>2</td>\n",
       "      <td>3</td>\n",
       "    </tr>\n",
       "    <tr>\n",
       "      <th>3</th>\n",
       "      <td>0027538e-aa9e-4a02-8979-b8397e5d4cba</td>\n",
       "      <td>8772bc85-a9b7-4d85-a52d-41f3620c2912</td>\n",
       "      <td>0d9b5583-8053-4b67-adfe-8c29eb12efed</td>\n",
       "      <td>2014-10-10 15:23:53.0</td>\n",
       "      <td>NaN</td>\n",
       "      <td>NaN</td>\n",
       "      <td>NaN</td>\n",
       "      <td>2014-10-17</td>\n",
       "      <td>2014-10-19</td>\n",
       "      <td>2</td>\n",
       "      <td>2</td>\n",
       "    </tr>\n",
       "    <tr>\n",
       "      <th>4</th>\n",
       "      <td>0027538e-aa9e-4a02-8979-b8397e5d4cba</td>\n",
       "      <td>ac162061-55e2-4072-ac91-2e080f9581f2</td>\n",
       "      <td>ec68e0af-b0f2-42c7-b6f8-d41061c083ff</td>\n",
       "      <td>2014-10-10 15:22:26.0</td>\n",
       "      <td>2014-10-10 15:24:26.0</td>\n",
       "      <td>2014-10-10 15:24:26.0</td>\n",
       "      <td>2014-10-10 15:52:42.0</td>\n",
       "      <td>2014-10-17</td>\n",
       "      <td>2014-10-19</td>\n",
       "      <td>2</td>\n",
       "      <td>14</td>\n",
       "    </tr>\n",
       "    <tr>\n",
       "      <th>...</th>\n",
       "      <td>...</td>\n",
       "      <td>...</td>\n",
       "      <td>...</td>\n",
       "      <td>...</td>\n",
       "      <td>...</td>\n",
       "      <td>...</td>\n",
       "      <td>...</td>\n",
       "      <td>...</td>\n",
       "      <td>...</td>\n",
       "      <td>...</td>\n",
       "      <td>...</td>\n",
       "    </tr>\n",
       "    <tr>\n",
       "      <th>7818</th>\n",
       "      <td>ffe366f0-6ab6-4e94-818a-c69c125fed3c</td>\n",
       "      <td>8be6bf94-aeb3-4a51-8ac4-db60baedfea1</td>\n",
       "      <td>7732bad8-e800-49f3-8751-e7604e3fb5a3</td>\n",
       "      <td>2014-10-07 21:43:00.0</td>\n",
       "      <td>2014-10-08 08:19:33.0</td>\n",
       "      <td>2014-10-08 08:19:33.0</td>\n",
       "      <td>NaN</td>\n",
       "      <td>2014-10-17</td>\n",
       "      <td>2014-10-20</td>\n",
       "      <td>2</td>\n",
       "      <td>5</td>\n",
       "    </tr>\n",
       "    <tr>\n",
       "      <th>7819</th>\n",
       "      <td>ffe366f0-6ab6-4e94-818a-c69c125fed3c</td>\n",
       "      <td>b92639c1-a5a8-48f6-8484-4fe6f62d1c6d</td>\n",
       "      <td>cc3a6bd4-d64f-4cbe-b947-c36c3851b487</td>\n",
       "      <td>2014-10-13 15:38:28.0</td>\n",
       "      <td>2014-10-13 15:44:56.0</td>\n",
       "      <td>NaN</td>\n",
       "      <td>NaN</td>\n",
       "      <td>2014-10-17</td>\n",
       "      <td>2014-10-20</td>\n",
       "      <td>2</td>\n",
       "      <td>5</td>\n",
       "    </tr>\n",
       "    <tr>\n",
       "      <th>7820</th>\n",
       "      <td>ffe366f0-6ab6-4e94-818a-c69c125fed3c</td>\n",
       "      <td>d0b6d89a-4379-43f2-9560-4943df5b8f4f</td>\n",
       "      <td>6e5b4380-66d2-4f2a-8f89-d2794598997d</td>\n",
       "      <td>2014-10-13 15:40:49.0</td>\n",
       "      <td>2014-10-13 15:42:46.0</td>\n",
       "      <td>NaN</td>\n",
       "      <td>NaN</td>\n",
       "      <td>2014-10-17</td>\n",
       "      <td>2014-10-20</td>\n",
       "      <td>2</td>\n",
       "      <td>3</td>\n",
       "    </tr>\n",
       "    <tr>\n",
       "      <th>7821</th>\n",
       "      <td>ffe366f0-6ab6-4e94-818a-c69c125fed3c</td>\n",
       "      <td>f86bc9ab-e199-4254-8609-fd67d6aaed42</td>\n",
       "      <td>28caf371-6d1d-4e06-aaf1-e660966ac7a1</td>\n",
       "      <td>2014-10-07 21:30:31.0</td>\n",
       "      <td>2014-10-08 19:04:43.0</td>\n",
       "      <td>NaN</td>\n",
       "      <td>NaN</td>\n",
       "      <td>2014-10-17</td>\n",
       "      <td>2014-10-20</td>\n",
       "      <td>2</td>\n",
       "      <td>2</td>\n",
       "    </tr>\n",
       "    <tr>\n",
       "      <th>7822</th>\n",
       "      <td>fffea166-9432-43a7-8b1b-09d6f30c1c07</td>\n",
       "      <td>6d656267-642e-4972-bdec-a35d82b84ebb</td>\n",
       "      <td>90dddef6-23ef-4df3-b454-8fd3d0e8cade</td>\n",
       "      <td>2014-10-08 00:05:05.0</td>\n",
       "      <td>2014-10-12 20:58:12.0</td>\n",
       "      <td>NaN</td>\n",
       "      <td>NaN</td>\n",
       "      <td>2014-11-11</td>\n",
       "      <td>2014-11-18</td>\n",
       "      <td>2</td>\n",
       "      <td>2</td>\n",
       "    </tr>\n",
       "  </tbody>\n",
       "</table>\n",
       "<p>7823 rows × 11 columns</p>\n",
       "</div>"
      ],
      "text/plain": [
       "                                  id_guest  \\\n",
       "0     000dfad9-459b-4f0b-8310-3d6ab34e4f57   \n",
       "1     00197051-c6cb-4c3a-99e9-86615b819874   \n",
       "2     0027538e-aa9e-4a02-8979-b8397e5d4cba   \n",
       "3     0027538e-aa9e-4a02-8979-b8397e5d4cba   \n",
       "4     0027538e-aa9e-4a02-8979-b8397e5d4cba   \n",
       "...                                    ...   \n",
       "7818  ffe366f0-6ab6-4e94-818a-c69c125fed3c   \n",
       "7819  ffe366f0-6ab6-4e94-818a-c69c125fed3c   \n",
       "7820  ffe366f0-6ab6-4e94-818a-c69c125fed3c   \n",
       "7821  ffe366f0-6ab6-4e94-818a-c69c125fed3c   \n",
       "7822  fffea166-9432-43a7-8b1b-09d6f30c1c07   \n",
       "\n",
       "                                   id_host  \\\n",
       "0     13bb24b8-d432-43a2-9755-5ea11b43bb69   \n",
       "1     46aa3897-9c00-4d76-ac66-a307593d0675   \n",
       "2     6bbb88ca-db66-48c5-9c4b-862f7706284a   \n",
       "3     8772bc85-a9b7-4d85-a52d-41f3620c2912   \n",
       "4     ac162061-55e2-4072-ac91-2e080f9581f2   \n",
       "...                                    ...   \n",
       "7818  8be6bf94-aeb3-4a51-8ac4-db60baedfea1   \n",
       "7819  b92639c1-a5a8-48f6-8484-4fe6f62d1c6d   \n",
       "7820  d0b6d89a-4379-43f2-9560-4943df5b8f4f   \n",
       "7821  f86bc9ab-e199-4254-8609-fd67d6aaed42   \n",
       "7822  6d656267-642e-4972-bdec-a35d82b84ebb   \n",
       "\n",
       "                                id_listing          ts_contact_at  \\\n",
       "0     21d2b1a2-fdc3-4b4c-a1f0-0eaf0cc02370  2014-10-04 16:26:28.0   \n",
       "1     fb5ed09a-9848-4f2c-b2ef-34deb62164fb  2014-11-04 09:10:03.0   \n",
       "2     d3871da6-8012-4dc4-b508-c91f2c10c297  2014-10-10 12:02:50.0   \n",
       "3     0d9b5583-8053-4b67-adfe-8c29eb12efed  2014-10-10 15:23:53.0   \n",
       "4     ec68e0af-b0f2-42c7-b6f8-d41061c083ff  2014-10-10 15:22:26.0   \n",
       "...                                    ...                    ...   \n",
       "7818  7732bad8-e800-49f3-8751-e7604e3fb5a3  2014-10-07 21:43:00.0   \n",
       "7819  cc3a6bd4-d64f-4cbe-b947-c36c3851b487  2014-10-13 15:38:28.0   \n",
       "7820  6e5b4380-66d2-4f2a-8f89-d2794598997d  2014-10-13 15:40:49.0   \n",
       "7821  28caf371-6d1d-4e06-aaf1-e660966ac7a1  2014-10-07 21:30:31.0   \n",
       "7822  90dddef6-23ef-4df3-b454-8fd3d0e8cade  2014-10-08 00:05:05.0   \n",
       "\n",
       "                ts_reply_at         ts_accepted_at          ts_booking_at  \\\n",
       "0     2014-10-04 16:26:28.0  2014-10-04 16:26:28.0  2014-10-04 16:26:28.0   \n",
       "1     2014-11-04 09:45:50.0  2014-11-04 09:45:50.0  2014-11-04 12:20:46.0   \n",
       "2     2014-10-10 15:07:01.0                    NaN                    NaN   \n",
       "3                       NaN                    NaN                    NaN   \n",
       "4     2014-10-10 15:24:26.0  2014-10-10 15:24:26.0  2014-10-10 15:52:42.0   \n",
       "...                     ...                    ...                    ...   \n",
       "7818  2014-10-08 08:19:33.0  2014-10-08 08:19:33.0                    NaN   \n",
       "7819  2014-10-13 15:44:56.0                    NaN                    NaN   \n",
       "7820  2014-10-13 15:42:46.0                    NaN                    NaN   \n",
       "7821  2014-10-08 19:04:43.0                    NaN                    NaN   \n",
       "7822  2014-10-12 20:58:12.0                    NaN                    NaN   \n",
       "\n",
       "      ds_checkin ds_checkout  n_guests  n_messages  \n",
       "0     2014-10-13  2014-10-15         2          13  \n",
       "1     2014-11-27  2014-11-30         1          10  \n",
       "2     2014-10-17  2014-10-19         2           3  \n",
       "3     2014-10-17  2014-10-19         2           2  \n",
       "4     2014-10-17  2014-10-19         2          14  \n",
       "...          ...         ...       ...         ...  \n",
       "7818  2014-10-17  2014-10-20         2           5  \n",
       "7819  2014-10-17  2014-10-20         2           5  \n",
       "7820  2014-10-17  2014-10-20         2           3  \n",
       "7821  2014-10-17  2014-10-20         2           2  \n",
       "7822  2014-11-11  2014-11-18         2           2  \n",
       "\n",
       "[7823 rows x 11 columns]"
      ]
     },
     "execution_count": 62,
     "metadata": {},
     "output_type": "execute_result"
    }
   ],
   "source": [
    "contacts"
   ]
  },
  {
   "cell_type": "code",
   "execution_count": 63,
   "id": "187c539d",
   "metadata": {},
   "outputs": [],
   "source": [
    "searches_data = (\"searches.tsv\") "
   ]
  },
  {
   "cell_type": "code",
   "execution_count": 64,
   "id": "fbe37da4",
   "metadata": {},
   "outputs": [],
   "source": [
    "searches= pd.read_csv(\"searches.tsv\",sep=\"\\t\")"
   ]
  },
  {
   "cell_type": "code",
   "execution_count": 65,
   "id": "251ed965",
   "metadata": {},
   "outputs": [
    {
     "data": {
      "text/html": [
       "<div>\n",
       "<style scoped>\n",
       "    .dataframe tbody tr th:only-of-type {\n",
       "        vertical-align: middle;\n",
       "    }\n",
       "\n",
       "    .dataframe tbody tr th {\n",
       "        vertical-align: top;\n",
       "    }\n",
       "\n",
       "    .dataframe thead th {\n",
       "        text-align: right;\n",
       "    }\n",
       "</style>\n",
       "<table border=\"1\" class=\"dataframe\">\n",
       "  <thead>\n",
       "    <tr style=\"text-align: right;\">\n",
       "      <th></th>\n",
       "      <th>ds</th>\n",
       "      <th>id_user</th>\n",
       "      <th>ds_checkin</th>\n",
       "      <th>ds_checkout</th>\n",
       "      <th>n_searches</th>\n",
       "      <th>n_nights</th>\n",
       "      <th>n_guests_min</th>\n",
       "      <th>n_guests_max</th>\n",
       "      <th>origin_country</th>\n",
       "      <th>filter_price_min</th>\n",
       "      <th>filter_price_max</th>\n",
       "      <th>filter_room_types</th>\n",
       "      <th>filter_neighborhoods</th>\n",
       "    </tr>\n",
       "  </thead>\n",
       "  <tbody>\n",
       "    <tr>\n",
       "      <th>0</th>\n",
       "      <td>2014-10-01</td>\n",
       "      <td>0000af0a-6f26-4233-9832-27efbfb36148</td>\n",
       "      <td>2014-10-09</td>\n",
       "      <td>2014-10-12</td>\n",
       "      <td>16</td>\n",
       "      <td>3.0</td>\n",
       "      <td>2</td>\n",
       "      <td>2</td>\n",
       "      <td>IE</td>\n",
       "      <td>0.0</td>\n",
       "      <td>6.700000e+01</td>\n",
       "      <td>,Entire home/apt,Entire home/apt,Private room,...</td>\n",
       "      <td>NaN</td>\n",
       "    </tr>\n",
       "    <tr>\n",
       "      <th>1</th>\n",
       "      <td>2014-10-01</td>\n",
       "      <td>0000af0a-6f26-4233-9832-27efbfb36148</td>\n",
       "      <td>2014-10-09</td>\n",
       "      <td>2014-10-19</td>\n",
       "      <td>3</td>\n",
       "      <td>10.0</td>\n",
       "      <td>1</td>\n",
       "      <td>2</td>\n",
       "      <td>IE</td>\n",
       "      <td>0.0</td>\n",
       "      <td>6.700000e+01</td>\n",
       "      <td>NaN</td>\n",
       "      <td>NaN</td>\n",
       "    </tr>\n",
       "    <tr>\n",
       "      <th>2</th>\n",
       "      <td>2014-10-01</td>\n",
       "      <td>000cd9d3-e05b-4016-9e09-34a6f8ba2fc5</td>\n",
       "      <td>NaN</td>\n",
       "      <td>NaN</td>\n",
       "      <td>1</td>\n",
       "      <td>NaN</td>\n",
       "      <td>1</td>\n",
       "      <td>1</td>\n",
       "      <td>GB</td>\n",
       "      <td>NaN</td>\n",
       "      <td>NaN</td>\n",
       "      <td>NaN</td>\n",
       "      <td>NaN</td>\n",
       "    </tr>\n",
       "    <tr>\n",
       "      <th>3</th>\n",
       "      <td>2014-10-01</td>\n",
       "      <td>000cd9d3-e05b-4016-9e09-34a6f8ba2fc5</td>\n",
       "      <td>2014-11-08</td>\n",
       "      <td>2014-11-10</td>\n",
       "      <td>11</td>\n",
       "      <td>2.0</td>\n",
       "      <td>1</td>\n",
       "      <td>2</td>\n",
       "      <td>GB</td>\n",
       "      <td>NaN</td>\n",
       "      <td>NaN</td>\n",
       "      <td>,Entire home/apt</td>\n",
       "      <td>NaN</td>\n",
       "    </tr>\n",
       "    <tr>\n",
       "      <th>4</th>\n",
       "      <td>2014-10-01</td>\n",
       "      <td>001c04f0-5a94-4ee0-bf5d-3591265256de</td>\n",
       "      <td>NaN</td>\n",
       "      <td>NaN</td>\n",
       "      <td>1</td>\n",
       "      <td>NaN</td>\n",
       "      <td>1</td>\n",
       "      <td>1</td>\n",
       "      <td>IE</td>\n",
       "      <td>NaN</td>\n",
       "      <td>NaN</td>\n",
       "      <td>NaN</td>\n",
       "      <td>NaN</td>\n",
       "    </tr>\n",
       "    <tr>\n",
       "      <th>...</th>\n",
       "      <td>...</td>\n",
       "      <td>...</td>\n",
       "      <td>...</td>\n",
       "      <td>...</td>\n",
       "      <td>...</td>\n",
       "      <td>...</td>\n",
       "      <td>...</td>\n",
       "      <td>...</td>\n",
       "      <td>...</td>\n",
       "      <td>...</td>\n",
       "      <td>...</td>\n",
       "      <td>...</td>\n",
       "      <td>...</td>\n",
       "    </tr>\n",
       "    <tr>\n",
       "      <th>35732</th>\n",
       "      <td>2014-10-14</td>\n",
       "      <td>ff3c92ed-ebea-4691-a808-cc6fb73f2f55</td>\n",
       "      <td>NaN</td>\n",
       "      <td>NaN</td>\n",
       "      <td>3</td>\n",
       "      <td>NaN</td>\n",
       "      <td>2</td>\n",
       "      <td>2</td>\n",
       "      <td>US</td>\n",
       "      <td>0.0</td>\n",
       "      <td>1.000000e+02</td>\n",
       "      <td>Entire home/apt</td>\n",
       "      <td>NaN</td>\n",
       "    </tr>\n",
       "    <tr>\n",
       "      <th>35733</th>\n",
       "      <td>2014-10-14</td>\n",
       "      <td>ff61875b-1d27-4ee4-bd4e-36671d3bfed4</td>\n",
       "      <td>NaN</td>\n",
       "      <td>NaN</td>\n",
       "      <td>2</td>\n",
       "      <td>NaN</td>\n",
       "      <td>1</td>\n",
       "      <td>1</td>\n",
       "      <td>US</td>\n",
       "      <td>NaN</td>\n",
       "      <td>NaN</td>\n",
       "      <td>NaN</td>\n",
       "      <td>NaN</td>\n",
       "    </tr>\n",
       "    <tr>\n",
       "      <th>35734</th>\n",
       "      <td>2014-10-14</td>\n",
       "      <td>ff946a14-777b-4597-91b2-3277921214cd</td>\n",
       "      <td>2014-11-03</td>\n",
       "      <td>2014-11-06</td>\n",
       "      <td>10</td>\n",
       "      <td>3.0</td>\n",
       "      <td>1</td>\n",
       "      <td>3</td>\n",
       "      <td>IL</td>\n",
       "      <td>NaN</td>\n",
       "      <td>NaN</td>\n",
       "      <td>Entire home/apt</td>\n",
       "      <td>NaN</td>\n",
       "    </tr>\n",
       "    <tr>\n",
       "      <th>35735</th>\n",
       "      <td>2014-10-14</td>\n",
       "      <td>ffc681d4-3668-4448-af38-6f73bc9fb89d</td>\n",
       "      <td>NaN</td>\n",
       "      <td>NaN</td>\n",
       "      <td>5</td>\n",
       "      <td>NaN</td>\n",
       "      <td>1</td>\n",
       "      <td>1</td>\n",
       "      <td>IE</td>\n",
       "      <td>0.0</td>\n",
       "      <td>4.850000e+02</td>\n",
       "      <td>NaN</td>\n",
       "      <td>NaN</td>\n",
       "    </tr>\n",
       "    <tr>\n",
       "      <th>35736</th>\n",
       "      <td>2014-10-14</td>\n",
       "      <td>ffe0f0c3-f8e3-418e-82e5-3a29fdd183bd</td>\n",
       "      <td>NaN</td>\n",
       "      <td>NaN</td>\n",
       "      <td>3</td>\n",
       "      <td>NaN</td>\n",
       "      <td>1</td>\n",
       "      <td>1</td>\n",
       "      <td>US</td>\n",
       "      <td>480.0</td>\n",
       "      <td>1.073742e+09</td>\n",
       "      <td>,Entire home/apt</td>\n",
       "      <td>NaN</td>\n",
       "    </tr>\n",
       "  </tbody>\n",
       "</table>\n",
       "<p>35737 rows × 13 columns</p>\n",
       "</div>"
      ],
      "text/plain": [
       "               ds                               id_user  ds_checkin  \\\n",
       "0      2014-10-01  0000af0a-6f26-4233-9832-27efbfb36148  2014-10-09   \n",
       "1      2014-10-01  0000af0a-6f26-4233-9832-27efbfb36148  2014-10-09   \n",
       "2      2014-10-01  000cd9d3-e05b-4016-9e09-34a6f8ba2fc5         NaN   \n",
       "3      2014-10-01  000cd9d3-e05b-4016-9e09-34a6f8ba2fc5  2014-11-08   \n",
       "4      2014-10-01  001c04f0-5a94-4ee0-bf5d-3591265256de         NaN   \n",
       "...           ...                                   ...         ...   \n",
       "35732  2014-10-14  ff3c92ed-ebea-4691-a808-cc6fb73f2f55         NaN   \n",
       "35733  2014-10-14  ff61875b-1d27-4ee4-bd4e-36671d3bfed4         NaN   \n",
       "35734  2014-10-14  ff946a14-777b-4597-91b2-3277921214cd  2014-11-03   \n",
       "35735  2014-10-14  ffc681d4-3668-4448-af38-6f73bc9fb89d         NaN   \n",
       "35736  2014-10-14  ffe0f0c3-f8e3-418e-82e5-3a29fdd183bd         NaN   \n",
       "\n",
       "      ds_checkout  n_searches  n_nights  n_guests_min  n_guests_max  \\\n",
       "0      2014-10-12          16       3.0             2             2   \n",
       "1      2014-10-19           3      10.0             1             2   \n",
       "2             NaN           1       NaN             1             1   \n",
       "3      2014-11-10          11       2.0             1             2   \n",
       "4             NaN           1       NaN             1             1   \n",
       "...           ...         ...       ...           ...           ...   \n",
       "35732         NaN           3       NaN             2             2   \n",
       "35733         NaN           2       NaN             1             1   \n",
       "35734  2014-11-06          10       3.0             1             3   \n",
       "35735         NaN           5       NaN             1             1   \n",
       "35736         NaN           3       NaN             1             1   \n",
       "\n",
       "      origin_country  filter_price_min  filter_price_max  \\\n",
       "0                 IE               0.0      6.700000e+01   \n",
       "1                 IE               0.0      6.700000e+01   \n",
       "2                 GB               NaN               NaN   \n",
       "3                 GB               NaN               NaN   \n",
       "4                 IE               NaN               NaN   \n",
       "...              ...               ...               ...   \n",
       "35732             US               0.0      1.000000e+02   \n",
       "35733             US               NaN               NaN   \n",
       "35734             IL               NaN               NaN   \n",
       "35735             IE               0.0      4.850000e+02   \n",
       "35736             US             480.0      1.073742e+09   \n",
       "\n",
       "                                       filter_room_types filter_neighborhoods  \n",
       "0      ,Entire home/apt,Entire home/apt,Private room,...                  NaN  \n",
       "1                                                    NaN                  NaN  \n",
       "2                                                    NaN                  NaN  \n",
       "3                                       ,Entire home/apt                  NaN  \n",
       "4                                                    NaN                  NaN  \n",
       "...                                                  ...                  ...  \n",
       "35732                                    Entire home/apt                  NaN  \n",
       "35733                                                NaN                  NaN  \n",
       "35734                                    Entire home/apt                  NaN  \n",
       "35735                                                NaN                  NaN  \n",
       "35736                                   ,Entire home/apt                  NaN  \n",
       "\n",
       "[35737 rows x 13 columns]"
      ]
     },
     "execution_count": 65,
     "metadata": {},
     "output_type": "execute_result"
    }
   ],
   "source": [
    "searches"
   ]
  },
  {
   "cell_type": "code",
   "execution_count": 66,
   "id": "c5e7df80",
   "metadata": {},
   "outputs": [
    {
     "name": "stdout",
     "output_type": "stream",
     "text": [
      "contacts\n",
      "id_guest          0.000000\n",
      "id_host           0.000000\n",
      "id_listing        0.000000\n",
      "ts_contact_at     0.000000\n",
      "ts_reply_at       0.077208\n",
      "ts_accepted_at    0.536367\n",
      "ts_booking_at     0.722101\n",
      "ds_checkin        0.000000\n",
      "ds_checkout       0.000000\n",
      "n_guests          0.000000\n",
      "n_messages        0.000000\n",
      "dtype: float64 \n",
      "\n",
      "searches\n",
      "ds                      0.000000\n",
      "id_user                 0.000000\n",
      "ds_checkin              0.331561\n",
      "ds_checkout             0.331561\n",
      "n_searches              0.000000\n",
      "n_nights                0.331561\n",
      "n_guests_min            0.000000\n",
      "n_guests_max            0.000000\n",
      "origin_country          0.000000\n",
      "filter_price_min        0.627221\n",
      "filter_price_max        0.627221\n",
      "filter_room_types       0.546940\n",
      "filter_neighborhoods    0.962336\n",
      "dtype: float64\n"
     ]
    }
   ],
   "source": [
    "## Find % of null values in dataset\n",
    "print(\"contacts\")\n",
    "print(contacts.isna().sum()/len(contacts), '\\n')\n",
    "print(\"searches\")\n",
    "print(searches.isna().sum()/len(searches))"
   ]
  },
  {
   "cell_type": "markdown",
   "id": "7ce70b14",
   "metadata": {},
   "source": [
    "## Searches dataset"
   ]
  },
  {
   "cell_type": "code",
   "execution_count": 67,
   "id": "2e9bc1c4",
   "metadata": {},
   "outputs": [],
   "source": [
    "# Drop filter_neighborhoods column\n",
    "\n",
    "searches = searches.drop(columns=[\"filter_neighborhoods\"])"
   ]
  },
  {
   "cell_type": "code",
   "execution_count": 68,
   "id": "94a997fe",
   "metadata": {},
   "outputs": [],
   "source": [
    "# Manipulation of searches dataset\n",
    "\n",
    "#Convert date column to datetime data type for easier analysis\n",
    "searches[\"ds\"]=pd.to_datetime(searches[\"ds\"])\n",
    "searches[\"ds_checkin\"] = pd.to_datetime(searches[\"ds_checkin\"])\n",
    "searches[\"ds_checkout\"] = pd.to_datetime(searches[\"ds_checkout\"])\n",
    "\n",
    "# how soon they want the room\n",
    "searches[\"length_preperation\"] = searches[\"ds_checkin\"] - searches[\"ds\"]"
   ]
  },
  {
   "cell_type": "code",
   "execution_count": 69,
   "id": "452be5ab",
   "metadata": {},
   "outputs": [
    {
     "data": {
      "text/html": [
       "<div>\n",
       "<style scoped>\n",
       "    .dataframe tbody tr th:only-of-type {\n",
       "        vertical-align: middle;\n",
       "    }\n",
       "\n",
       "    .dataframe tbody tr th {\n",
       "        vertical-align: top;\n",
       "    }\n",
       "\n",
       "    .dataframe thead th {\n",
       "        text-align: right;\n",
       "    }\n",
       "</style>\n",
       "<table border=\"1\" class=\"dataframe\">\n",
       "  <thead>\n",
       "    <tr style=\"text-align: right;\">\n",
       "      <th></th>\n",
       "      <th>n_searches</th>\n",
       "      <th>n_nights</th>\n",
       "      <th>n_guests_min</th>\n",
       "      <th>n_guests_max</th>\n",
       "      <th>filter_price_min</th>\n",
       "      <th>filter_price_max</th>\n",
       "      <th>length_preperation</th>\n",
       "    </tr>\n",
       "  </thead>\n",
       "  <tbody>\n",
       "    <tr>\n",
       "      <th>count</th>\n",
       "      <td>35737.000000</td>\n",
       "      <td>23888.000000</td>\n",
       "      <td>35737.000000</td>\n",
       "      <td>35737.000000</td>\n",
       "      <td>13322.000000</td>\n",
       "      <td>1.332200e+04</td>\n",
       "      <td>23888</td>\n",
       "    </tr>\n",
       "    <tr>\n",
       "      <th>mean</th>\n",
       "      <td>9.206565</td>\n",
       "      <td>7.672765</td>\n",
       "      <td>1.742955</td>\n",
       "      <td>2.105857</td>\n",
       "      <td>8.470200</td>\n",
       "      <td>9.019063e+07</td>\n",
       "      <td>51 days 08:11:53.730743469</td>\n",
       "    </tr>\n",
       "    <tr>\n",
       "      <th>std</th>\n",
       "      <td>17.348746</td>\n",
       "      <td>21.557614</td>\n",
       "      <td>1.460440</td>\n",
       "      <td>1.817358</td>\n",
       "      <td>53.987679</td>\n",
       "      <td>2.978482e+08</td>\n",
       "      <td>65 days 18:56:19.491940518</td>\n",
       "    </tr>\n",
       "    <tr>\n",
       "      <th>min</th>\n",
       "      <td>1.000000</td>\n",
       "      <td>0.000000</td>\n",
       "      <td>1.000000</td>\n",
       "      <td>1.000000</td>\n",
       "      <td>0.000000</td>\n",
       "      <td>9.000000e+00</td>\n",
       "      <td>-1 days +00:00:00</td>\n",
       "    </tr>\n",
       "    <tr>\n",
       "      <th>25%</th>\n",
       "      <td>1.000000</td>\n",
       "      <td>2.000000</td>\n",
       "      <td>1.000000</td>\n",
       "      <td>1.000000</td>\n",
       "      <td>0.000000</td>\n",
       "      <td>8.600000e+01</td>\n",
       "      <td>10 days 00:00:00</td>\n",
       "    </tr>\n",
       "    <tr>\n",
       "      <th>50%</th>\n",
       "      <td>4.000000</td>\n",
       "      <td>3.000000</td>\n",
       "      <td>1.000000</td>\n",
       "      <td>2.000000</td>\n",
       "      <td>0.000000</td>\n",
       "      <td>1.390000e+02</td>\n",
       "      <td>26 days 00:00:00</td>\n",
       "    </tr>\n",
       "    <tr>\n",
       "      <th>75%</th>\n",
       "      <td>10.000000</td>\n",
       "      <td>5.000000</td>\n",
       "      <td>2.000000</td>\n",
       "      <td>2.000000</td>\n",
       "      <td>0.000000</td>\n",
       "      <td>3.010000e+02</td>\n",
       "      <td>67 days 00:00:00</td>\n",
       "    </tr>\n",
       "    <tr>\n",
       "      <th>max</th>\n",
       "      <td>448.000000</td>\n",
       "      <td>399.000000</td>\n",
       "      <td>16.000000</td>\n",
       "      <td>16.000000</td>\n",
       "      <td>1250.000000</td>\n",
       "      <td>1.073742e+09</td>\n",
       "      <td>604 days 00:00:00</td>\n",
       "    </tr>\n",
       "  </tbody>\n",
       "</table>\n",
       "</div>"
      ],
      "text/plain": [
       "         n_searches      n_nights  n_guests_min  n_guests_max  \\\n",
       "count  35737.000000  23888.000000  35737.000000  35737.000000   \n",
       "mean       9.206565      7.672765      1.742955      2.105857   \n",
       "std       17.348746     21.557614      1.460440      1.817358   \n",
       "min        1.000000      0.000000      1.000000      1.000000   \n",
       "25%        1.000000      2.000000      1.000000      1.000000   \n",
       "50%        4.000000      3.000000      1.000000      2.000000   \n",
       "75%       10.000000      5.000000      2.000000      2.000000   \n",
       "max      448.000000    399.000000     16.000000     16.000000   \n",
       "\n",
       "       filter_price_min  filter_price_max          length_preperation  \n",
       "count      13322.000000      1.332200e+04                       23888  \n",
       "mean           8.470200      9.019063e+07  51 days 08:11:53.730743469  \n",
       "std           53.987679      2.978482e+08  65 days 18:56:19.491940518  \n",
       "min            0.000000      9.000000e+00           -1 days +00:00:00  \n",
       "25%            0.000000      8.600000e+01            10 days 00:00:00  \n",
       "50%            0.000000      1.390000e+02            26 days 00:00:00  \n",
       "75%            0.000000      3.010000e+02            67 days 00:00:00  \n",
       "max         1250.000000      1.073742e+09           604 days 00:00:00  "
      ]
     },
     "metadata": {},
     "output_type": "display_data"
    }
   ],
   "source": [
    "# Describe searches dataset\n",
    "\n",
    "# Helps understand the dataset and its distribution of values within columns better \n",
    "display(searches.describe())"
   ]
  },
  {
   "cell_type": "code",
   "execution_count": 70,
   "id": "d30dcca7",
   "metadata": {},
   "outputs": [
    {
     "data": {
      "text/plain": [
       "n_searches           7.509258\n",
       "n_nights             9.942364\n",
       "n_guests_min         3.583798\n",
       "n_guests_max         3.148548\n",
       "filter_price_min    11.087745\n",
       "filter_price_max     2.999833\n",
       "dtype: float64"
      ]
     },
     "metadata": {},
     "output_type": "display_data"
    }
   ],
   "source": [
    "#Calculate skewness in searches dataset\n",
    "\n",
    "display(searches.skew(axis = 0, numeric_only = True, skipna = True))"
   ]
  },
  {
   "cell_type": "markdown",
   "id": "01cb80c8",
   "metadata": {},
   "source": [
    "## Distributions"
   ]
  },
  {
   "cell_type": "code",
   "execution_count": 71,
   "id": "4b59703a",
   "metadata": {},
   "outputs": [
    {
     "data": {
      "image/png": "[encoded data removed]",
      "text/plain": [
       "<Figure size 500x500 with 1 Axes>"
      ]
     },
     "metadata": {},
     "output_type": "display_data"
    },
    {
     "data": {
      "image/png": "[encoded data removed]",
      "text/plain": [
       "<Figure size 500x500 with 1 Axes>"
      ]
     },
     "metadata": {},
     "output_type": "display_data"
    }
   ],
   "source": [
    "#Distribution plot of n_guests_min and n_guests_max\n",
    "sns.displot(searches, x = \"n_guests_min\", color = \"brown\")\n",
    "sns.displot(searches, x = \"n_guests_max\", color = \"black\")\n",
    "plt.show()"
   ]
  },
  {
   "cell_type": "code",
   "execution_count": 72,
   "id": "a901e3d2",
   "metadata": {},
   "outputs": [
    {
     "data": {
      "text/plain": [
       "[[None,\n",
       "  None,\n",
       "  None,\n",
       "  None,\n",
       "  None,\n",
       "  None,\n",
       "  None,\n",
       "  None,\n",
       "  None,\n",
       "  None,\n",
       "  None,\n",
       "  None,\n",
       "  None,\n",
       "  None]]"
      ]
     },
     "execution_count": 72,
     "metadata": {},
     "output_type": "execute_result"
    },
    {
     "data": {
      "image/png": "[encoded data removed]",
      "text/plain": [
       "<Figure size 500x500 with 1 Axes>"
      ]
     },
     "metadata": {},
     "output_type": "display_data"
    }
   ],
   "source": [
    "#When were searches conducted\n",
    "\n",
    "ax = sns.displot(searches, x = \"ds\", color = \"brown\")\n",
    "[plt.setp(ax.get_xticklabels(), rotation=90) for ax in ax.axes.flat]"
   ]
  },
  {
   "cell_type": "code",
   "execution_count": 73,
   "id": "95600737",
   "metadata": {},
   "outputs": [
    {
     "name": "stdout",
     "output_type": "stream",
     "text": [
      "5.311022189887232 %\n"
     ]
    }
   ],
   "source": [
    "# Percentage of dataset with a filter_price_max above 600\n",
    "print(len(searches[searches[\"filter_price_max\"] > 600])/len(searches[\"filter_price_max\"])*100, \"%\")"
   ]
  },
  {
   "cell_type": "code",
   "execution_count": 74,
   "id": "060e4fbb",
   "metadata": {},
   "outputs": [
    {
     "data": {
      "image/png": "[encoded data removed]",
      "text/plain": [
       "<Figure size 500x500 with 1 Axes>"
      ]
     },
     "metadata": {},
     "output_type": "display_data"
    }
   ],
   "source": [
    "#Distribution of filter_price_max of searches\n",
    "\n",
    "# Removing the set upper limit \n",
    "searches_maxprice_removed = searches[searches[\"filter_price_max\"] <= 600]\n",
    "\n",
    "#Distribution plot of filter_price_max column\n",
    "sns.displot(x=searches_maxprice_removed[\"filter_price_max\"], color = \"blue\")\n",
    "plt.show()"
   ]
  },
  {
   "cell_type": "code",
   "execution_count": 75,
   "id": "27931fce",
   "metadata": {},
   "outputs": [
    {
     "name": "stdout",
     "output_type": "stream",
     "text": [
      "9.396423874415872 % \n",
      "\n"
     ]
    },
    {
     "data": {
      "image/png": "[encoded data removed]",
      "text/plain": [
       "<Figure size 500x500 with 1 Axes>"
      ]
     },
     "metadata": {},
     "output_type": "display_data"
    }
   ],
   "source": [
    "# Distribution of length_preperation of searches\n",
    "\n",
    "#Percentage of dataset beyond 100 days\n",
    "distribution = searches[\"length_preperation\"] / np.timedelta64(1, \"D\")\n",
    "print(len(distribution[distribution > 100])/len(distribution)*100, \"% \\n\")\n",
    "\n",
    "#Remove values beyond 100 days\n",
    "distribution = distribution[distribution < 100]\n",
    "\n",
    "#Distribution plot of length_preperation column\n",
    "sns.displot(x=distribution, color = \"green\")\n",
    "plt.show()"
   ]
  },
  {
   "cell_type": "code",
   "execution_count": 55,
   "id": "66a88388",
   "metadata": {},
   "outputs": [
    {
     "name": "stdout",
     "output_type": "stream",
     "text": [
      "4.737387021854101 % \n",
      "\n"
     ]
    },
    {
     "data": {
      "image/png": "[encoded data removed]",
      "text/plain": [
       "<Figure size 500x500 with 1 Axes>"
      ]
     },
     "metadata": {},
     "output_type": "display_data"
    }
   ],
   "source": [
    "#Distribution of n_nights of searches\n",
    "\n",
    "#Percentage of dataset beyond 20 nights\n",
    "print(len(searches[searches[\"n_nights\"] > 20])/len(searches[\"n_nights\"])*100, \"% \\n\")\n",
    "\n",
    "# Remove n_nights beyond 20 days\n",
    "searches_within_twenty = searches[searches[\"n_nights\"] < 20]\n",
    "\n",
    "#Distribution plot of length_prepation column\n",
    "sns.displot(searches_within_twenty, x=\"n_nights\", color = \"red\")\n",
    "plt.show()"
   ]
  },
  {
   "cell_type": "code",
   "execution_count": 77,
   "id": "ccc6914d",
   "metadata": {},
   "outputs": [
    {
     "data": {
      "image/png": "[encoded data removed]",
      "text/plain": [
       "<Figure size 500x500 with 1 Axes>"
      ]
     },
     "metadata": {},
     "output_type": "display_data"
    }
   ],
   "source": [
    "#Distribution of months of ds_checkin of searches\n",
    "\n",
    "checkin_month = pd.DatetimeIndex(searches[\"ds_checkin\"]).month\n",
    "\n",
    "#Distribution plot of length_preperation column\n",
    "sns.displot(checkin_month, color = \"yellow\")\n",
    "plt.show()"
   ]
  },
  {
   "cell_type": "code",
   "execution_count": 78,
   "id": "19b7f3b9",
   "metadata": {},
   "outputs": [
    {
     "data": {
      "text/plain": [
       "array([',Entire home/apt,Entire home/apt,Private room,Private room', nan,\n",
       "       ',Entire home/apt',\n",
       "       'Entire home/apt,Entire home/apt,Private room,Private room',\n",
       "       'Entire home/apt', ',Shared room,Private room',\n",
       "       'Entire home/apt,Private room,Shared room,Private room,Shared room',\n",
       "       'Private room', 'Entire home/apt,Private room', ',Private room',\n",
       "       ',Entire home/apt,Private room',\n",
       "       ',Entire home/apt,Private room,Private room',\n",
       "       'Entire home/apt,Private room,Shared room',\n",
       "       ',Entire home/apt,Entire home/apt,Private room',\n",
       "       ',Entire home/apt,Entire home/apt,Shared room,Shared room'],\n",
       "      dtype=object)"
      ]
     },
     "execution_count": 78,
     "metadata": {},
     "output_type": "execute_result"
    }
   ],
   "source": [
    "# Types of rooms searched for\n",
    "\n",
    "searches[\"filter_room_types\"].unique()[0:15]   #Display first 15 unique values"
   ]
  },
  {
   "cell_type": "code",
   "execution_count": 80,
   "id": "1d2fcf3b",
   "metadata": {},
   "outputs": [
    {
     "data": {
      "text/html": [
       "<div>\n",
       "<style scoped>\n",
       "    .dataframe tbody tr th:only-of-type {\n",
       "        vertical-align: middle;\n",
       "    }\n",
       "\n",
       "    .dataframe tbody tr th {\n",
       "        vertical-align: top;\n",
       "    }\n",
       "\n",
       "    .dataframe thead th {\n",
       "        text-align: right;\n",
       "    }\n",
       "</style>\n",
       "<table border=\"1\" class=\"dataframe\">\n",
       "  <thead>\n",
       "    <tr style=\"text-align: right;\">\n",
       "      <th></th>\n",
       "      <th>count</th>\n",
       "    </tr>\n",
       "    <tr>\n",
       "      <th>origin_country</th>\n",
       "      <th></th>\n",
       "    </tr>\n",
       "  </thead>\n",
       "  <tbody>\n",
       "    <tr>\n",
       "      <th>IE</th>\n",
       "      <td>6608</td>\n",
       "    </tr>\n",
       "    <tr>\n",
       "      <th>US</th>\n",
       "      <td>5811</td>\n",
       "    </tr>\n",
       "    <tr>\n",
       "      <th>GB</th>\n",
       "      <td>4832</td>\n",
       "    </tr>\n",
       "    <tr>\n",
       "      <th>FR</th>\n",
       "      <td>3444</td>\n",
       "    </tr>\n",
       "    <tr>\n",
       "      <th>IT</th>\n",
       "      <td>2333</td>\n",
       "    </tr>\n",
       "    <tr>\n",
       "      <th>DE</th>\n",
       "      <td>2170</td>\n",
       "    </tr>\n",
       "    <tr>\n",
       "      <th>ES</th>\n",
       "      <td>1759</td>\n",
       "    </tr>\n",
       "    <tr>\n",
       "      <th>CA</th>\n",
       "      <td>1085</td>\n",
       "    </tr>\n",
       "    <tr>\n",
       "      <th>AU</th>\n",
       "      <td>962</td>\n",
       "    </tr>\n",
       "    <tr>\n",
       "      <th>NL</th>\n",
       "      <td>843</td>\n",
       "    </tr>\n",
       "    <tr>\n",
       "      <th>BR</th>\n",
       "      <td>636</td>\n",
       "    </tr>\n",
       "    <tr>\n",
       "      <th>CH</th>\n",
       "      <td>535</td>\n",
       "    </tr>\n",
       "    <tr>\n",
       "      <th>BE</th>\n",
       "      <td>386</td>\n",
       "    </tr>\n",
       "    <tr>\n",
       "      <th>AT</th>\n",
       "      <td>320</td>\n",
       "    </tr>\n",
       "    <tr>\n",
       "      <th>RU</th>\n",
       "      <td>274</td>\n",
       "    </tr>\n",
       "  </tbody>\n",
       "</table>\n",
       "</div>"
      ],
      "text/plain": [
       "                count\n",
       "origin_country       \n",
       "IE               6608\n",
       "US               5811\n",
       "GB               4832\n",
       "FR               3444\n",
       "IT               2333\n",
       "DE               2170\n",
       "ES               1759\n",
       "CA               1085\n",
       "AU                962\n",
       "NL                843\n",
       "BR                636\n",
       "CH                535\n",
       "BE                386\n",
       "AT                320\n",
       "RU                274"
      ]
     },
     "execution_count": 80,
     "metadata": {},
     "output_type": "execute_result"
    }
   ],
   "source": [
    "# Find top 15 countries where searches originate from\n",
    "\n",
    "#Group by origin country and finding the count of each country\n",
    "search_origin = searches.groupby(\"origin_country\").agg({\"origin_country\" : \"count\"})\n",
    "search_origin.columns = [\"count\"]\n",
    "\n",
    "search_origin = search_origin.sort_values(\"count\", ascending = False)  #Sort count in descending order\n",
    "search_origin.nlargest(15, \"count\") #Find the 15 largest values"
   ]
  },
  {
   "cell_type": "markdown",
   "id": "25e8de3a",
   "metadata": {},
   "source": [
    "## contacts Dataset"
   ]
  },
  {
   "cell_type": "code",
   "execution_count": 82,
   "id": "93c64c34",
   "metadata": {},
   "outputs": [
    {
     "data": {
      "text/plain": [
       "id_guest                   object\n",
       "id_host                    object\n",
       "id_listing                 object\n",
       "ts_contact_at      datetime64[ns]\n",
       "ts_reply_at        datetime64[ns]\n",
       "ts_accepted_at     datetime64[ns]\n",
       "ts_booking_at      datetime64[ns]\n",
       "ds_checkin         datetime64[ns]\n",
       "ds_checkout        datetime64[ns]\n",
       "n_guests                    int64\n",
       "n_messages                  int64\n",
       "accepted                     bool\n",
       "length_stay       timedelta64[ns]\n",
       "dtype: object"
      ]
     },
     "metadata": {},
     "output_type": "display_data"
    },
    {
     "data": {
      "text/html": [
       "<div>\n",
       "<style scoped>\n",
       "    .dataframe tbody tr th:only-of-type {\n",
       "        vertical-align: middle;\n",
       "    }\n",
       "\n",
       "    .dataframe tbody tr th {\n",
       "        vertical-align: top;\n",
       "    }\n",
       "\n",
       "    .dataframe thead th {\n",
       "        text-align: right;\n",
       "    }\n",
       "</style>\n",
       "<table border=\"1\" class=\"dataframe\">\n",
       "  <thead>\n",
       "    <tr style=\"text-align: right;\">\n",
       "      <th></th>\n",
       "      <th>n_guests</th>\n",
       "      <th>n_messages</th>\n",
       "      <th>length_stay</th>\n",
       "    </tr>\n",
       "  </thead>\n",
       "  <tbody>\n",
       "    <tr>\n",
       "      <th>count</th>\n",
       "      <td>7823.000000</td>\n",
       "      <td>7823.000000</td>\n",
       "      <td>7823</td>\n",
       "    </tr>\n",
       "    <tr>\n",
       "      <th>mean</th>\n",
       "      <td>2.422600</td>\n",
       "      <td>6.319954</td>\n",
       "      <td>5 days 19:25:32.864629937</td>\n",
       "    </tr>\n",
       "    <tr>\n",
       "      <th>std</th>\n",
       "      <td>1.617347</td>\n",
       "      <td>6.472827</td>\n",
       "      <td>14 days 23:45:24.447710564</td>\n",
       "    </tr>\n",
       "    <tr>\n",
       "      <th>min</th>\n",
       "      <td>1.000000</td>\n",
       "      <td>1.000000</td>\n",
       "      <td>1 days 00:00:00</td>\n",
       "    </tr>\n",
       "    <tr>\n",
       "      <th>25%</th>\n",
       "      <td>1.000000</td>\n",
       "      <td>2.000000</td>\n",
       "      <td>2 days 00:00:00</td>\n",
       "    </tr>\n",
       "    <tr>\n",
       "      <th>50%</th>\n",
       "      <td>2.000000</td>\n",
       "      <td>4.000000</td>\n",
       "      <td>3 days 00:00:00</td>\n",
       "    </tr>\n",
       "    <tr>\n",
       "      <th>75%</th>\n",
       "      <td>3.000000</td>\n",
       "      <td>8.000000</td>\n",
       "      <td>5 days 00:00:00</td>\n",
       "    </tr>\n",
       "    <tr>\n",
       "      <th>max</th>\n",
       "      <td>16.000000</td>\n",
       "      <td>102.000000</td>\n",
       "      <td>334 days 00:00:00</td>\n",
       "    </tr>\n",
       "  </tbody>\n",
       "</table>\n",
       "</div>"
      ],
      "text/plain": [
       "          n_guests   n_messages                 length_stay\n",
       "count  7823.000000  7823.000000                        7823\n",
       "mean      2.422600     6.319954   5 days 19:25:32.864629937\n",
       "std       1.617347     6.472827  14 days 23:45:24.447710564\n",
       "min       1.000000     1.000000             1 days 00:00:00\n",
       "25%       1.000000     2.000000             2 days 00:00:00\n",
       "50%       2.000000     4.000000             3 days 00:00:00\n",
       "75%       3.000000     8.000000             5 days 00:00:00\n",
       "max      16.000000   102.000000           334 days 00:00:00"
      ]
     },
     "metadata": {},
     "output_type": "display_data"
    }
   ],
   "source": [
    "# Manipulation of contacts dataset\n",
    "\n",
    "#Convert date columns to datatime data type\n",
    "contacts[\"ts_contact_at\"] = pd.to_datetime(contacts[\"ts_contact_at\"])\n",
    "contacts[\"ts_reply_at\"] = pd.to_datetime(contacts[\"ts_reply_at\"])\n",
    "contacts[\"ts_accepted_at\"] = pd.to_datetime(contacts[\"ts_accepted_at\"])\n",
    "contacts[\"ts_booking_at\"] = pd.to_datetime(contacts[\"ts_booking_at\"])\n",
    "contacts[\"ds_checkin\"] = pd.to_datetime(contacts[\"ds_checkin\"])\n",
    "contacts[\"ds_checkout\"] = pd.to_datetime(contacts[\"ds_checkout\"])\n",
    "contacts[\"accepted\"] = np.where(np.isnan(contacts[\"ts_accepted_at\"]), False, True)\n",
    "\n",
    "contacts[\"length_stay\"] = contacts[\"ds_checkout\"] - contacts[\"ds_checkin\"]\n",
    "\n",
    "#understand dataset\n",
    "display(contacts.dtypes)\n",
    "display(contacts.describe())"
   ]
  },
  {
   "cell_type": "code",
   "execution_count": 83,
   "id": "e91a5926",
   "metadata": {},
   "outputs": [
    {
     "data": {
      "text/plain": [
       "n_guests      2.441468\n",
       "n_messages    3.696440\n",
       "accepted      0.145883\n",
       "dtype: float64"
      ]
     },
     "metadata": {},
     "output_type": "display_data"
    }
   ],
   "source": [
    "# Calculate skewness in conacts Dataset\n",
    "\n",
    "display(contacts.skew(axis = 0, numeric_only = True, skipna = True))"
   ]
  },
  {
   "cell_type": "code",
   "execution_count": 84,
   "id": "a792186a",
   "metadata": {},
   "outputs": [
    {
     "data": {
      "image/png": "[encoded data removed]",
      "text/plain": [
       "<Figure size 584.875x500 with 1 Axes>"
      ]
     },
     "metadata": {},
     "output_type": "display_data"
    }
   ],
   "source": [
    "#Number of guests stayed\n",
    "\n",
    "contacts_less8 = contacts[contacts[\"n_guests\"] < 8]\n",
    "sns.displot(contacts_less8, x = \"n_guests\", hue = \"accepted\", multiple=\"dodge\")\n",
    "plt.show()"
   ]
  },
  {
   "cell_type": "code",
   "execution_count": 85,
   "id": "78b3e950",
   "metadata": {},
   "outputs": [
    {
     "data": {
      "text/plain": [
       "0.5993934381031155"
      ]
     },
     "execution_count": 85,
     "metadata": {},
     "output_type": "execute_result"
    }
   ],
   "source": [
    "#Conversion rate from accepting to booking\n",
    "\n",
    "contants[\"ts_booking_at\"].count()/contacts[\"ts_accepted_at\"].count()\n"
   ]
  },
  {
   "cell_type": "code",
   "execution_count": 86,
   "id": "1f66c205",
   "metadata": {},
   "outputs": [
    {
     "data": {
      "image/png": "[encoded data removed]",
      "text/plain": [
       "<Figure size 584.875x500 with 1 Axes>"
      ]
     },
     "metadata": {},
     "output_type": "display_data"
    }
   ],
   "source": [
    "# Timeframe of when guests or accepted vs rejected\n",
    "\n",
    "contacts[\"month_checkin\"] = contacts[\"ds_checkin\"].dt.month  #Extract month from checkin date\n",
    "contacts_checkin = contacts[contacts[\"month_checkin\"] > 9]    #use only peak season months (Oct, Nov, Dec)\n",
    "\n",
    "#Distribution of checkin among October , November , and December and split by acceptance\n",
    "sns.displot(contacts_checkin, x=\"month_checkin\", hue = \"accepted\",multiple=\"dodge\")\n",
    "plt.xticks([10,11,12])\n",
    "plt.show()"
   ]
  },
  {
   "cell_type": "code",
   "execution_count": 88,
   "id": "7e387278",
   "metadata": {},
   "outputs": [],
   "source": [
    "#Merge datasets for more analysis\n",
    "\n",
    "merged_datasets = contacts.merge(searches, left_on=\"id_guest\",right_on=\"id_user\")\n"
   ]
  },
  {
   "cell_type": "code",
   "execution_count": 90,
   "id": "a5516909",
   "metadata": {},
   "outputs": [
    {
     "data": {
      "image/png": "[encoded data removed]",
      "text/plain": [
       "<Figure size 584.875x500 with 1 Axes>"
      ]
     },
     "metadata": {},
     "output_type": "display_data"
    }
   ],
   "source": [
    "#check difference between prices searched between accepted/rejected applications\n",
    "\n",
    "merged_pricemax_filter = merged_datasets.loc[(merged_datasets[\"filter_price_max\"] <= 600)]\n",
    "\n",
    "sns.displot(merged_pricemax_filter, x=\"filter_price_max\", hue=\"accepted\",multiple=\"dodge\")\n",
    "plt.show()"
   ]
  },
  {
   "cell_type": "code",
   "execution_count": 91,
   "id": "dce7d668",
   "metadata": {},
   "outputs": [
    {
     "data": {
      "text/html": [
       "<div>\n",
       "<style scoped>\n",
       "    .dataframe tbody tr th:only-of-type {\n",
       "        vertical-align: middle;\n",
       "    }\n",
       "\n",
       "    .dataframe tbody tr th {\n",
       "        vertical-align: top;\n",
       "    }\n",
       "\n",
       "    .dataframe thead th {\n",
       "        text-align: right;\n",
       "    }\n",
       "</style>\n",
       "<table border=\"1\" class=\"dataframe\">\n",
       "  <thead>\n",
       "    <tr style=\"text-align: right;\">\n",
       "      <th></th>\n",
       "      <th>accepted</th>\n",
       "    </tr>\n",
       "    <tr>\n",
       "      <th>classification_max_price</th>\n",
       "      <th></th>\n",
       "    </tr>\n",
       "  </thead>\n",
       "  <tbody>\n",
       "    <tr>\n",
       "      <th>0-100</th>\n",
       "      <td>0.411160</td>\n",
       "    </tr>\n",
       "    <tr>\n",
       "      <th>100-200</th>\n",
       "      <td>0.430308</td>\n",
       "    </tr>\n",
       "    <tr>\n",
       "      <th>200-300</th>\n",
       "      <td>0.431149</td>\n",
       "    </tr>\n",
       "    <tr>\n",
       "      <th>300-400</th>\n",
       "      <td>0.450488</td>\n",
       "    </tr>\n",
       "    <tr>\n",
       "      <th>400-500</th>\n",
       "      <td>0.485549</td>\n",
       "    </tr>\n",
       "    <tr>\n",
       "      <th>500-600</th>\n",
       "      <td>0.422297</td>\n",
       "    </tr>\n",
       "    <tr>\n",
       "      <th>600+</th>\n",
       "      <td>0.433122</td>\n",
       "    </tr>\n",
       "  </tbody>\n",
       "</table>\n",
       "</div>"
      ],
      "text/plain": [
       "                          accepted\n",
       "classification_max_price          \n",
       "0-100                     0.411160\n",
       "100-200                   0.430308\n",
       "200-300                   0.431149\n",
       "300-400                   0.450488\n",
       "400-500                   0.485549\n",
       "500-600                   0.422297\n",
       "600+                      0.433122"
      ]
     },
     "execution_count": 91,
     "metadata": {},
     "output_type": "execute_result"
    }
   ],
   "source": [
    "# Classify dataset based on filter_price_max\n",
    "def label_price (row):\n",
    "    if (row[\"filter_price_max\"] >= 0) & (row[\"filter_price_max\"] < 100):\n",
    "        return \"0-100\"\n",
    "    \n",
    "    elif (row[\"filter_price_max\"] >= 100) & (row[\"filter_price_max\"] < 200):\n",
    "        return \"100-200\"\n",
    "    \n",
    "    elif (row[\"filter_price_max\"] >= 200) & (row[\"filter_price_max\"] < 300):\n",
    "        return \"200-300\"\n",
    "    \n",
    "    elif (row[\"filter_price_max\"] >= 300) & (row[\"filter_price_max\"] < 400):\n",
    "        return \"300-400\"\n",
    "    \n",
    "    elif (row[\"filter_price_max\"] >= 400) & (row[\"filter_price_max\"] < 500):\n",
    "        return \"400-500\"\n",
    "    \n",
    "    elif (row[\"filter_price_max\"] >= 500) & (row[\"filter_price_max\"] < 600):\n",
    "        return \"500-600\"\n",
    "    \n",
    "    else:\n",
    "        return \"600+\"\n",
    "    \n",
    "merged_datasets[\"classification_max_price\"] = merged_datasets.apply(lambda row: label_price(row), axis=1)\n",
    "merged_datasets.groupby(\"classification_max_price\").agg({\"accepted\" : \"mean\"})"
   ]
  },
  {
   "cell_type": "code",
   "execution_count": null,
   "id": "42865a16",
   "metadata": {},
   "outputs": [],
   "source": []
  }
 ],
 "metadata": {
  "kernelspec": {
   "display_name": "Python 3 (ipykernel)",
   "language": "python",
   "name": "python3"
  },
  "language_info": {
   "codemirror_mode": {
    "name": "ipython",
    "version": 3
   },
   "file_extension": ".py",
   "mimetype": "text/x-python",
   "name": "python",
   "nbconvert_exporter": "python",
   "pygments_lexer": "ipython3",
   "version": "3.11.4"
  }
 },
 "nbformat": 4,
 "nbformat_minor": 5
}
