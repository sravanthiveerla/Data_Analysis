{
 "cells": [
  {
   "cell_type": "code",
   "execution_count": 97,
   "id": "188ea153",
   "metadata": {},
   "outputs": [],
   "source": [
    "import pandas as pd\n",
    "import numpy as np"
   ]
  },
  {
   "cell_type": "code",
   "execution_count": 74,
   "id": "eefa6dc6",
   "metadata": {},
   "outputs": [],
   "source": [
    "Project=pd.read_csv(\"Project_AC.csv\")"
   ]
  },
  {
   "cell_type": "code",
   "execution_count": 75,
   "id": "2441b588",
   "metadata": {},
   "outputs": [
    {
     "data": {
      "text/html": [
       "<div>\n",
       "<style scoped>\n",
       "    .dataframe tbody tr th:only-of-type {\n",
       "        vertical-align: middle;\n",
       "    }\n",
       "\n",
       "    .dataframe tbody tr th {\n",
       "        vertical-align: top;\n",
       "    }\n",
       "\n",
       "    .dataframe thead th {\n",
       "        text-align: right;\n",
       "    }\n",
       "</style>\n",
       "<table border=\"1\" class=\"dataframe\">\n",
       "  <thead>\n",
       "    <tr style=\"text-align: right;\">\n",
       "      <th></th>\n",
       "      <th>Brand</th>\n",
       "      <th>Color</th>\n",
       "      <th>Price</th>\n",
       "      <th>no_of_star</th>\n",
       "      <th>rating</th>\n",
       "      <th>discount</th>\n",
       "      <th>Model</th>\n",
       "      <th>Ton</th>\n",
       "      <th>annual_electricity_Consumption</th>\n",
       "    </tr>\n",
       "  </thead>\n",
       "  <tbody>\n",
       "    <tr>\n",
       "      <th>0</th>\n",
       "      <td>Voltas</td>\n",
       "      <td>White</td>\n",
       "      <td>32490</td>\n",
       "      <td>3.0</td>\n",
       "      <td>4.2</td>\n",
       "      <td>48.0</td>\n",
       "      <td>2023.0</td>\n",
       "      <td>1.5</td>\n",
       "      <td>624.48</td>\n",
       "    </tr>\n",
       "    <tr>\n",
       "      <th>1</th>\n",
       "      <td>SAMSUNG</td>\n",
       "      <td>White</td>\n",
       "      <td>30490</td>\n",
       "      <td>3.0</td>\n",
       "      <td>4.2</td>\n",
       "      <td>51.0</td>\n",
       "      <td>NaN</td>\n",
       "      <td>1.5</td>\n",
       "      <td>1123.77</td>\n",
       "    </tr>\n",
       "    <tr>\n",
       "      <th>2</th>\n",
       "      <td>Daikin</td>\n",
       "      <td>White</td>\n",
       "      <td>25999</td>\n",
       "      <td>3.0</td>\n",
       "      <td>4.1</td>\n",
       "      <td>30.0</td>\n",
       "      <td>2023.0</td>\n",
       "      <td>0.8</td>\n",
       "      <td>NaN</td>\n",
       "    </tr>\n",
       "    <tr>\n",
       "      <th>3</th>\n",
       "      <td>Haier</td>\n",
       "      <td>NaN</td>\n",
       "      <td>31990</td>\n",
       "      <td>3.0</td>\n",
       "      <td>4.0</td>\n",
       "      <td>50.0</td>\n",
       "      <td>2023.0</td>\n",
       "      <td>1.5</td>\n",
       "      <td>686.48</td>\n",
       "    </tr>\n",
       "    <tr>\n",
       "      <th>4</th>\n",
       "      <td>Whirlpool</td>\n",
       "      <td>NaN</td>\n",
       "      <td>37990</td>\n",
       "      <td>5.0</td>\n",
       "      <td>3.9</td>\n",
       "      <td>46.0</td>\n",
       "      <td>2023.0</td>\n",
       "      <td>1.5</td>\n",
       "      <td>NaN</td>\n",
       "    </tr>\n",
       "    <tr>\n",
       "      <th>...</th>\n",
       "      <td>...</td>\n",
       "      <td>...</td>\n",
       "      <td>...</td>\n",
       "      <td>...</td>\n",
       "      <td>...</td>\n",
       "      <td>...</td>\n",
       "      <td>...</td>\n",
       "      <td>...</td>\n",
       "      <td>...</td>\n",
       "    </tr>\n",
       "    <tr>\n",
       "      <th>811</th>\n",
       "      <td>Daikin</td>\n",
       "      <td>White</td>\n",
       "      <td>53000</td>\n",
       "      <td>5.0</td>\n",
       "      <td>4.2</td>\n",
       "      <td>15.0</td>\n",
       "      <td>NaN</td>\n",
       "      <td>1.5</td>\n",
       "      <td>824.08</td>\n",
       "    </tr>\n",
       "    <tr>\n",
       "      <th>812</th>\n",
       "      <td>Panasonic</td>\n",
       "      <td>White</td>\n",
       "      <td>52499</td>\n",
       "      <td>3.0</td>\n",
       "      <td>NaN</td>\n",
       "      <td>24.0</td>\n",
       "      <td>NaN</td>\n",
       "      <td>NaN</td>\n",
       "      <td>1050.84</td>\n",
       "    </tr>\n",
       "    <tr>\n",
       "      <th>813</th>\n",
       "      <td>Haier</td>\n",
       "      <td>White</td>\n",
       "      <td>60890</td>\n",
       "      <td>3.0</td>\n",
       "      <td>4.1</td>\n",
       "      <td>NaN</td>\n",
       "      <td>NaN</td>\n",
       "      <td>1.5</td>\n",
       "      <td>1123.23</td>\n",
       "    </tr>\n",
       "    <tr>\n",
       "      <th>814</th>\n",
       "      <td>SAMSUNG</td>\n",
       "      <td>White</td>\n",
       "      <td>31390</td>\n",
       "      <td>3.0</td>\n",
       "      <td>NaN</td>\n",
       "      <td>38.0</td>\n",
       "      <td>2023.0</td>\n",
       "      <td>NaN</td>\n",
       "      <td>624.48</td>\n",
       "    </tr>\n",
       "    <tr>\n",
       "      <th>815</th>\n",
       "      <td>Panasonic</td>\n",
       "      <td>White</td>\n",
       "      <td>41350</td>\n",
       "      <td>4.0</td>\n",
       "      <td>NaN</td>\n",
       "      <td>30.0</td>\n",
       "      <td>NaN</td>\n",
       "      <td>1.5</td>\n",
       "      <td>962.49</td>\n",
       "    </tr>\n",
       "  </tbody>\n",
       "</table>\n",
       "<p>816 rows × 9 columns</p>\n",
       "</div>"
      ],
      "text/plain": [
       "         Brand  Color  Price  no_of_star  rating  discount   Model  Ton  \\\n",
       "0       Voltas  White  32490         3.0     4.2      48.0  2023.0  1.5   \n",
       "1      SAMSUNG  White  30490         3.0     4.2      51.0     NaN  1.5   \n",
       "2       Daikin  White  25999         3.0     4.1      30.0  2023.0  0.8   \n",
       "3        Haier    NaN  31990         3.0     4.0      50.0  2023.0  1.5   \n",
       "4    Whirlpool    NaN  37990         5.0     3.9      46.0  2023.0  1.5   \n",
       "..         ...    ...    ...         ...     ...       ...     ...  ...   \n",
       "811     Daikin  White  53000         5.0     4.2      15.0     NaN  1.5   \n",
       "812  Panasonic  White  52499         3.0     NaN      24.0     NaN  NaN   \n",
       "813      Haier  White  60890         3.0     4.1       NaN     NaN  1.5   \n",
       "814    SAMSUNG  White  31390         3.0     NaN      38.0  2023.0  NaN   \n",
       "815  Panasonic  White  41350         4.0     NaN      30.0     NaN  1.5   \n",
       "\n",
       "     annual_electricity_Consumption  \n",
       "0                            624.48  \n",
       "1                           1123.77  \n",
       "2                               NaN  \n",
       "3                            686.48  \n",
       "4                               NaN  \n",
       "..                              ...  \n",
       "811                          824.08  \n",
       "812                         1050.84  \n",
       "813                         1123.23  \n",
       "814                          624.48  \n",
       "815                          962.49  \n",
       "\n",
       "[816 rows x 9 columns]"
      ]
     },
     "execution_count": 75,
     "metadata": {},
     "output_type": "execute_result"
    }
   ],
   "source": [
    "Project"
   ]
  },
  {
   "cell_type": "code",
   "execution_count": 76,
   "id": "5510ca18",
   "metadata": {},
   "outputs": [
    {
     "name": "stdout",
     "output_type": "stream",
     "text": [
      "<class 'pandas.core.frame.DataFrame'>\n",
      "RangeIndex: 816 entries, 0 to 815\n",
      "Data columns (total 9 columns):\n",
      " #   Column                          Non-Null Count  Dtype  \n",
      "---  ------                          --------------  -----  \n",
      " 0   Brand                           816 non-null    object \n",
      " 1   Color                           661 non-null    object \n",
      " 2   Price                           816 non-null    int64  \n",
      " 3   no_of_star                      783 non-null    float64\n",
      " 4   rating                          649 non-null    float64\n",
      " 5   discount                        779 non-null    float64\n",
      " 6   Model                           288 non-null    float64\n",
      " 7   Ton                             547 non-null    float64\n",
      " 8   annual_electricity_Consumption  612 non-null    float64\n",
      "dtypes: float64(6), int64(1), object(2)\n",
      "memory usage: 57.5+ KB\n"
     ]
    }
   ],
   "source": [
    "Project.info()"
   ]
  },
  {
   "cell_type": "code",
   "execution_count": 77,
   "id": "3644bd5d",
   "metadata": {},
   "outputs": [
    {
     "data": {
      "text/plain": [
       "Voltas                82\n",
       "Daikin                77\n",
       "Blue star             75\n",
       "Lloyd                 75\n",
       "Hitachi               66\n",
       "Panasonic             64\n",
       "LG                    61\n",
       "SAMSUNG               56\n",
       "CARRIER               46\n",
       "Godrej                42\n",
       "Haier                 32\n",
       "Whirlpool             20\n",
       "IFB                   15\n",
       "ONIDA                 14\n",
       "O-General             14\n",
       "MarQ                  14\n",
       "realme                 8\n",
       "TOSHIBA                7\n",
       "Midea                  7\n",
       "Thomson                7\n",
       "CANDY                  7\n",
       "Hisense                6\n",
       "MOTOROLA               4\n",
       "Frigidaire             3\n",
       "CRUISE                 3\n",
       "White Westinghouse     3\n",
       "NU                     2\n",
       "Sansui                 1\n",
       "Kelvinator             1\n",
       "Mitsubishi             1\n",
       "MITASHI                1\n",
       "Equator                1\n",
       "GREE                   1\n",
       "Name: Brand, dtype: int64"
      ]
     },
     "execution_count": 77,
     "metadata": {},
     "output_type": "execute_result"
    }
   ],
   "source": [
    "Project[\"Brand\"]=Project[\"Brand\"].replace('Blue','Blue star')\n",
    "Project[\"Brand\"]=Project[\"Brand\"].replace('O','O-General')\n",
    "Project[\"Brand\"]=Project[\"Brand\"].replace('White','White Westinghouse')\n",
    "Project[\"Brand\"].value_counts()"
   ]
  },
  {
   "cell_type": "code",
   "execution_count": 78,
   "id": "506ceef2",
   "metadata": {},
   "outputs": [
    {
     "data": {
      "text/plain": [
       "0    White\n",
       "Name: Color, dtype: object"
      ]
     },
     "execution_count": 78,
     "metadata": {},
     "output_type": "execute_result"
    }
   ],
   "source": [
    "Project[\"Color\"]=Project[\"Color\"].replace('Whi','White')\n",
    "Project[\"Color\"]=Project[\"Color\"].replace('W','White')\n",
    "Project[\"Color\"]=Project[\"Color\"].replace('Print','White')\n",
    "Project[\"Color\"].mode()"
   ]
  },
  {
   "cell_type": "code",
   "execution_count": 79,
   "id": "cef3a123",
   "metadata": {},
   "outputs": [
    {
     "data": {
      "text/plain": [
       "White         798\n",
       "Gold            8\n",
       "Silver          5\n",
       "Red             1\n",
       "Floral          1\n",
       "Beige           1\n",
       "Multicolor      1\n",
       "Champagne       1\n",
       "Name: Color, dtype: int64"
      ]
     },
     "execution_count": 79,
     "metadata": {},
     "output_type": "execute_result"
    }
   ],
   "source": [
    "Project[\"Color\"]=Project[\"Color\"].fillna(Project[\"Color\"].mode()[0])\n",
    "Project[\"Color\"].value_counts()"
   ]
  },
  {
   "cell_type": "code",
   "execution_count": 80,
   "id": "508b5e7d",
   "metadata": {},
   "outputs": [
    {
     "data": {
      "text/plain": [
       "3.710089399744572"
      ]
     },
     "execution_count": 80,
     "metadata": {},
     "output_type": "execute_result"
    }
   ],
   "source": [
    "Project[\"no_of_star\"].mean()"
   ]
  },
  {
   "cell_type": "code",
   "execution_count": 81,
   "id": "ccd62b44",
   "metadata": {},
   "outputs": [
    {
     "data": {
      "text/plain": [
       "3    459\n",
       "5    259\n",
       "4     69\n",
       "2     27\n",
       "1      2\n",
       "Name: no_of_star, dtype: int64"
      ]
     },
     "execution_count": 81,
     "metadata": {},
     "output_type": "execute_result"
    }
   ],
   "source": [
    "Project[\"no_of_star\"]=Project[\"no_of_star\"].fillna(Project[\"no_of_star\"].mean()).astype(\"int\")\n",
    "Project[\"no_of_star\"].value_counts()"
   ]
  },
  {
   "cell_type": "code",
   "execution_count": 82,
   "id": "ec9bc51f",
   "metadata": {},
   "outputs": [
    {
     "name": "stdout",
     "output_type": "stream",
     "text": [
      "<class 'pandas.core.frame.DataFrame'>\n",
      "RangeIndex: 816 entries, 0 to 815\n",
      "Data columns (total 9 columns):\n",
      " #   Column                          Non-Null Count  Dtype  \n",
      "---  ------                          --------------  -----  \n",
      " 0   Brand                           816 non-null    object \n",
      " 1   Color                           816 non-null    object \n",
      " 2   Price                           816 non-null    int64  \n",
      " 3   no_of_star                      816 non-null    int32  \n",
      " 4   rating                          649 non-null    float64\n",
      " 5   discount                        779 non-null    float64\n",
      " 6   Model                           288 non-null    float64\n",
      " 7   Ton                             547 non-null    float64\n",
      " 8   annual_electricity_Consumption  612 non-null    float64\n",
      "dtypes: float64(5), int32(1), int64(1), object(2)\n",
      "memory usage: 54.3+ KB\n"
     ]
    }
   ],
   "source": [
    "Project.info()"
   ]
  },
  {
   "cell_type": "code",
   "execution_count": 83,
   "id": "abdde26c",
   "metadata": {},
   "outputs": [
    {
     "data": {
      "text/plain": [
       "0    4.2\n",
       "Name: rating, dtype: float64"
      ]
     },
     "execution_count": 83,
     "metadata": {},
     "output_type": "execute_result"
    }
   ],
   "source": [
    "Project[\"rating\"].mode()"
   ]
  },
  {
   "cell_type": "code",
   "execution_count": 84,
   "id": "1eae26cc",
   "metadata": {},
   "outputs": [
    {
     "data": {
      "text/plain": [
       "4.2    314\n",
       "4.1    135\n",
       "4.0     76\n",
       "4.3     68\n",
       "3.9     37\n",
       "3.7     29\n",
       "4.4     28\n",
       "3.8     28\n",
       "4.8     11\n",
       "5.0     10\n",
       "3.6      9\n",
       "3.4      9\n",
       "4.5      9\n",
       "4.7      7\n",
       "3.0      6\n",
       "3.5      6\n",
       "4.6      5\n",
       "3.3      5\n",
       "2.0      5\n",
       "3.2      5\n",
       "2.8      5\n",
       "3.1      2\n",
       "2.7      2\n",
       "1.5      1\n",
       "1.0      1\n",
       "4.9      1\n",
       "2.3      1\n",
       "2.6      1\n",
       "Name: rating, dtype: int64"
      ]
     },
     "execution_count": 84,
     "metadata": {},
     "output_type": "execute_result"
    }
   ],
   "source": [
    "Project[\"rating\"]=Project[\"rating\"].fillna(Project[\"rating\"].mode()[0])\n",
    "Project[\"rating\"].value_counts()"
   ]
  },
  {
   "cell_type": "code",
   "execution_count": 85,
   "id": "f7caed54",
   "metadata": {},
   "outputs": [
    {
     "name": "stdout",
     "output_type": "stream",
     "text": [
      "<class 'pandas.core.frame.DataFrame'>\n",
      "RangeIndex: 816 entries, 0 to 815\n",
      "Data columns (total 9 columns):\n",
      " #   Column                          Non-Null Count  Dtype  \n",
      "---  ------                          --------------  -----  \n",
      " 0   Brand                           816 non-null    object \n",
      " 1   Color                           816 non-null    object \n",
      " 2   Price                           816 non-null    int64  \n",
      " 3   no_of_star                      816 non-null    int32  \n",
      " 4   rating                          816 non-null    float64\n",
      " 5   discount                        779 non-null    float64\n",
      " 6   Model                           288 non-null    float64\n",
      " 7   Ton                             547 non-null    float64\n",
      " 8   annual_electricity_Consumption  612 non-null    float64\n",
      "dtypes: float64(5), int32(1), int64(1), object(2)\n",
      "memory usage: 54.3+ KB\n"
     ]
    }
   ],
   "source": [
    "Project.info()"
   ]
  },
  {
   "cell_type": "code",
   "execution_count": null,
   "id": "419e7ff9",
   "metadata": {},
   "outputs": [],
   "source": []
  },
  {
   "cell_type": "code",
   "execution_count": 61,
   "id": "e394ed2a",
   "metadata": {},
   "outputs": [
    {
     "data": {
      "text/plain": [
       "Brand                               0\n",
       "Color                               0\n",
       "Price                               0\n",
       "no_of_star                          0\n",
       "rating                              0\n",
       "discount                           37\n",
       "Model                             528\n",
       "Ton                               269\n",
       "annual_electricity_Consumption    204\n",
       "dtype: int64"
      ]
     },
     "execution_count": 61,
     "metadata": {},
     "output_type": "execute_result"
    }
   ],
   "source": [
    "Project.isnull().sum()"
   ]
  },
  {
   "cell_type": "code",
   "execution_count": 46,
   "id": "3a4992ad",
   "metadata": {},
   "outputs": [],
   "source": []
  },
  {
   "cell_type": "code",
   "execution_count": 86,
   "id": "1355b34c",
   "metadata": {},
   "outputs": [
    {
     "data": {
      "text/html": [
       "<div>\n",
       "<style scoped>\n",
       "    .dataframe tbody tr th:only-of-type {\n",
       "        vertical-align: middle;\n",
       "    }\n",
       "\n",
       "    .dataframe tbody tr th {\n",
       "        vertical-align: top;\n",
       "    }\n",
       "\n",
       "    .dataframe thead th {\n",
       "        text-align: right;\n",
       "    }\n",
       "</style>\n",
       "<table border=\"1\" class=\"dataframe\">\n",
       "  <thead>\n",
       "    <tr style=\"text-align: right;\">\n",
       "      <th></th>\n",
       "      <th>Brand</th>\n",
       "      <th>Color</th>\n",
       "      <th>Price</th>\n",
       "      <th>no_of_star</th>\n",
       "      <th>rating</th>\n",
       "      <th>discount</th>\n",
       "      <th>Model</th>\n",
       "      <th>Ton</th>\n",
       "      <th>annual_electricity_Consumption</th>\n",
       "    </tr>\n",
       "  </thead>\n",
       "  <tbody>\n",
       "    <tr>\n",
       "      <th>0</th>\n",
       "      <td>Voltas</td>\n",
       "      <td>White</td>\n",
       "      <td>32490</td>\n",
       "      <td>3</td>\n",
       "      <td>4.2</td>\n",
       "      <td>48.0</td>\n",
       "      <td>2023.0</td>\n",
       "      <td>1.5</td>\n",
       "      <td>624.48</td>\n",
       "    </tr>\n",
       "    <tr>\n",
       "      <th>1</th>\n",
       "      <td>SAMSUNG</td>\n",
       "      <td>White</td>\n",
       "      <td>30490</td>\n",
       "      <td>3</td>\n",
       "      <td>4.2</td>\n",
       "      <td>51.0</td>\n",
       "      <td>NaN</td>\n",
       "      <td>1.5</td>\n",
       "      <td>1123.77</td>\n",
       "    </tr>\n",
       "    <tr>\n",
       "      <th>2</th>\n",
       "      <td>Daikin</td>\n",
       "      <td>White</td>\n",
       "      <td>25999</td>\n",
       "      <td>3</td>\n",
       "      <td>4.1</td>\n",
       "      <td>30.0</td>\n",
       "      <td>2023.0</td>\n",
       "      <td>0.8</td>\n",
       "      <td>NaN</td>\n",
       "    </tr>\n",
       "    <tr>\n",
       "      <th>3</th>\n",
       "      <td>Haier</td>\n",
       "      <td>White</td>\n",
       "      <td>31990</td>\n",
       "      <td>3</td>\n",
       "      <td>4.0</td>\n",
       "      <td>50.0</td>\n",
       "      <td>2023.0</td>\n",
       "      <td>1.5</td>\n",
       "      <td>686.48</td>\n",
       "    </tr>\n",
       "    <tr>\n",
       "      <th>4</th>\n",
       "      <td>Whirlpool</td>\n",
       "      <td>White</td>\n",
       "      <td>37990</td>\n",
       "      <td>5</td>\n",
       "      <td>3.9</td>\n",
       "      <td>46.0</td>\n",
       "      <td>2023.0</td>\n",
       "      <td>1.5</td>\n",
       "      <td>NaN</td>\n",
       "    </tr>\n",
       "    <tr>\n",
       "      <th>...</th>\n",
       "      <td>...</td>\n",
       "      <td>...</td>\n",
       "      <td>...</td>\n",
       "      <td>...</td>\n",
       "      <td>...</td>\n",
       "      <td>...</td>\n",
       "      <td>...</td>\n",
       "      <td>...</td>\n",
       "      <td>...</td>\n",
       "    </tr>\n",
       "    <tr>\n",
       "      <th>811</th>\n",
       "      <td>Daikin</td>\n",
       "      <td>White</td>\n",
       "      <td>53000</td>\n",
       "      <td>5</td>\n",
       "      <td>4.2</td>\n",
       "      <td>15.0</td>\n",
       "      <td>NaN</td>\n",
       "      <td>1.5</td>\n",
       "      <td>824.08</td>\n",
       "    </tr>\n",
       "    <tr>\n",
       "      <th>812</th>\n",
       "      <td>Panasonic</td>\n",
       "      <td>White</td>\n",
       "      <td>52499</td>\n",
       "      <td>3</td>\n",
       "      <td>4.2</td>\n",
       "      <td>24.0</td>\n",
       "      <td>NaN</td>\n",
       "      <td>NaN</td>\n",
       "      <td>1050.84</td>\n",
       "    </tr>\n",
       "    <tr>\n",
       "      <th>813</th>\n",
       "      <td>Haier</td>\n",
       "      <td>White</td>\n",
       "      <td>60890</td>\n",
       "      <td>3</td>\n",
       "      <td>4.1</td>\n",
       "      <td>NaN</td>\n",
       "      <td>NaN</td>\n",
       "      <td>1.5</td>\n",
       "      <td>1123.23</td>\n",
       "    </tr>\n",
       "    <tr>\n",
       "      <th>814</th>\n",
       "      <td>SAMSUNG</td>\n",
       "      <td>White</td>\n",
       "      <td>31390</td>\n",
       "      <td>3</td>\n",
       "      <td>4.2</td>\n",
       "      <td>38.0</td>\n",
       "      <td>2023.0</td>\n",
       "      <td>NaN</td>\n",
       "      <td>624.48</td>\n",
       "    </tr>\n",
       "    <tr>\n",
       "      <th>815</th>\n",
       "      <td>Panasonic</td>\n",
       "      <td>White</td>\n",
       "      <td>41350</td>\n",
       "      <td>4</td>\n",
       "      <td>4.2</td>\n",
       "      <td>30.0</td>\n",
       "      <td>NaN</td>\n",
       "      <td>1.5</td>\n",
       "      <td>962.49</td>\n",
       "    </tr>\n",
       "  </tbody>\n",
       "</table>\n",
       "<p>816 rows × 9 columns</p>\n",
       "</div>"
      ],
      "text/plain": [
       "         Brand  Color  Price  no_of_star  rating  discount   Model  Ton  \\\n",
       "0       Voltas  White  32490           3     4.2      48.0  2023.0  1.5   \n",
       "1      SAMSUNG  White  30490           3     4.2      51.0     NaN  1.5   \n",
       "2       Daikin  White  25999           3     4.1      30.0  2023.0  0.8   \n",
       "3        Haier  White  31990           3     4.0      50.0  2023.0  1.5   \n",
       "4    Whirlpool  White  37990           5     3.9      46.0  2023.0  1.5   \n",
       "..         ...    ...    ...         ...     ...       ...     ...  ...   \n",
       "811     Daikin  White  53000           5     4.2      15.0     NaN  1.5   \n",
       "812  Panasonic  White  52499           3     4.2      24.0     NaN  NaN   \n",
       "813      Haier  White  60890           3     4.1       NaN     NaN  1.5   \n",
       "814    SAMSUNG  White  31390           3     4.2      38.0  2023.0  NaN   \n",
       "815  Panasonic  White  41350           4     4.2      30.0     NaN  1.5   \n",
       "\n",
       "     annual_electricity_Consumption  \n",
       "0                            624.48  \n",
       "1                           1123.77  \n",
       "2                               NaN  \n",
       "3                            686.48  \n",
       "4                               NaN  \n",
       "..                              ...  \n",
       "811                          824.08  \n",
       "812                         1050.84  \n",
       "813                         1123.23  \n",
       "814                          624.48  \n",
       "815                          962.49  \n",
       "\n",
       "[816 rows x 9 columns]"
      ]
     },
     "execution_count": 86,
     "metadata": {},
     "output_type": "execute_result"
    }
   ],
   "source": [
    "Project"
   ]
  },
  {
   "cell_type": "code",
   "execution_count": 87,
   "id": "3017e054",
   "metadata": {},
   "outputs": [
    {
     "data": {
      "text/plain": [
       "Brand                               0\n",
       "Color                               0\n",
       "Price                               0\n",
       "no_of_star                          0\n",
       "rating                              0\n",
       "discount                           37\n",
       "Model                             528\n",
       "Ton                               269\n",
       "annual_electricity_Consumption    204\n",
       "dtype: int64"
      ]
     },
     "execution_count": 87,
     "metadata": {},
     "output_type": "execute_result"
    }
   ],
   "source": [
    "Project.isnull().sum()"
   ]
  },
  {
   "cell_type": "code",
   "execution_count": 89,
   "id": "d5851eea",
   "metadata": {},
   "outputs": [],
   "source": [
    "Project.drop(\"Model\",inplace =True,axis=1)"
   ]
  },
  {
   "cell_type": "code",
   "execution_count": 119,
   "id": "c1825706",
   "metadata": {},
   "outputs": [
    {
     "data": {
      "text/html": [
       "<div>\n",
       "<style scoped>\n",
       "    .dataframe tbody tr th:only-of-type {\n",
       "        vertical-align: middle;\n",
       "    }\n",
       "\n",
       "    .dataframe tbody tr th {\n",
       "        vertical-align: top;\n",
       "    }\n",
       "\n",
       "    .dataframe thead th {\n",
       "        text-align: right;\n",
       "    }\n",
       "</style>\n",
       "<table border=\"1\" class=\"dataframe\">\n",
       "  <thead>\n",
       "    <tr style=\"text-align: right;\">\n",
       "      <th></th>\n",
       "      <th>Brand</th>\n",
       "      <th>Color</th>\n",
       "      <th>Price</th>\n",
       "      <th>no_of_star</th>\n",
       "      <th>rating</th>\n",
       "      <th>discount</th>\n",
       "      <th>Ton</th>\n",
       "      <th>annual_electricity_Consumption</th>\n",
       "    </tr>\n",
       "  </thead>\n",
       "  <tbody>\n",
       "    <tr>\n",
       "      <th>0</th>\n",
       "      <td>Voltas</td>\n",
       "      <td>White</td>\n",
       "      <td>32490.0</td>\n",
       "      <td>3.0</td>\n",
       "      <td>4.2</td>\n",
       "      <td>48.00</td>\n",
       "      <td>1.5</td>\n",
       "      <td>624.48</td>\n",
       "    </tr>\n",
       "    <tr>\n",
       "      <th>1</th>\n",
       "      <td>SAMSUNG</td>\n",
       "      <td>White</td>\n",
       "      <td>30490.0</td>\n",
       "      <td>3.0</td>\n",
       "      <td>4.2</td>\n",
       "      <td>51.00</td>\n",
       "      <td>1.5</td>\n",
       "      <td>1123.77</td>\n",
       "    </tr>\n",
       "    <tr>\n",
       "      <th>3</th>\n",
       "      <td>Haier</td>\n",
       "      <td>White</td>\n",
       "      <td>31990.0</td>\n",
       "      <td>3.0</td>\n",
       "      <td>4.0</td>\n",
       "      <td>50.00</td>\n",
       "      <td>1.5</td>\n",
       "      <td>686.48</td>\n",
       "    </tr>\n",
       "    <tr>\n",
       "      <th>7</th>\n",
       "      <td>Voltas</td>\n",
       "      <td>White</td>\n",
       "      <td>39490.0</td>\n",
       "      <td>5.0</td>\n",
       "      <td>4.2</td>\n",
       "      <td>48.00</td>\n",
       "      <td>1.5</td>\n",
       "      <td>704.42</td>\n",
       "    </tr>\n",
       "    <tr>\n",
       "      <th>8</th>\n",
       "      <td>Blue star</td>\n",
       "      <td>White</td>\n",
       "      <td>35900.0</td>\n",
       "      <td>3.0</td>\n",
       "      <td>4.2</td>\n",
       "      <td>42.00</td>\n",
       "      <td>1.5</td>\n",
       "      <td>1134.28</td>\n",
       "    </tr>\n",
       "    <tr>\n",
       "      <th>...</th>\n",
       "      <td>...</td>\n",
       "      <td>...</td>\n",
       "      <td>...</td>\n",
       "      <td>...</td>\n",
       "      <td>...</td>\n",
       "      <td>...</td>\n",
       "      <td>...</td>\n",
       "      <td>...</td>\n",
       "    </tr>\n",
       "    <tr>\n",
       "      <th>807</th>\n",
       "      <td>SAMSUNG</td>\n",
       "      <td>White</td>\n",
       "      <td>37388.0</td>\n",
       "      <td>3.0</td>\n",
       "      <td>4.2</td>\n",
       "      <td>18.00</td>\n",
       "      <td>1.5</td>\n",
       "      <td>1049.79</td>\n",
       "    </tr>\n",
       "    <tr>\n",
       "      <th>809</th>\n",
       "      <td>Godrej</td>\n",
       "      <td>White</td>\n",
       "      <td>31900.0</td>\n",
       "      <td>3.0</td>\n",
       "      <td>3.7</td>\n",
       "      <td>30.00</td>\n",
       "      <td>1.5</td>\n",
       "      <td>1123.23</td>\n",
       "    </tr>\n",
       "    <tr>\n",
       "      <th>811</th>\n",
       "      <td>Daikin</td>\n",
       "      <td>White</td>\n",
       "      <td>53000.0</td>\n",
       "      <td>5.0</td>\n",
       "      <td>4.2</td>\n",
       "      <td>15.00</td>\n",
       "      <td>1.5</td>\n",
       "      <td>824.08</td>\n",
       "    </tr>\n",
       "    <tr>\n",
       "      <th>813</th>\n",
       "      <td>Haier</td>\n",
       "      <td>White</td>\n",
       "      <td>60890.0</td>\n",
       "      <td>3.0</td>\n",
       "      <td>4.1</td>\n",
       "      <td>33.66</td>\n",
       "      <td>1.5</td>\n",
       "      <td>1123.23</td>\n",
       "    </tr>\n",
       "    <tr>\n",
       "      <th>815</th>\n",
       "      <td>Panasonic</td>\n",
       "      <td>White</td>\n",
       "      <td>41350.0</td>\n",
       "      <td>4.0</td>\n",
       "      <td>4.2</td>\n",
       "      <td>30.00</td>\n",
       "      <td>1.5</td>\n",
       "      <td>962.49</td>\n",
       "    </tr>\n",
       "  </tbody>\n",
       "</table>\n",
       "<p>411 rows × 8 columns</p>\n",
       "</div>"
      ],
      "text/plain": [
       "         Brand  Color    Price  no_of_star  rating  discount  Ton  \\\n",
       "0       Voltas  White  32490.0         3.0     4.2     48.00  1.5   \n",
       "1      SAMSUNG  White  30490.0         3.0     4.2     51.00  1.5   \n",
       "3        Haier  White  31990.0         3.0     4.0     50.00  1.5   \n",
       "7       Voltas  White  39490.0         5.0     4.2     48.00  1.5   \n",
       "8    Blue star  White  35900.0         3.0     4.2     42.00  1.5   \n",
       "..         ...    ...      ...         ...     ...       ...  ...   \n",
       "807    SAMSUNG  White  37388.0         3.0     4.2     18.00  1.5   \n",
       "809     Godrej  White  31900.0         3.0     3.7     30.00  1.5   \n",
       "811     Daikin  White  53000.0         5.0     4.2     15.00  1.5   \n",
       "813      Haier  White  60890.0         3.0     4.1     33.66  1.5   \n",
       "815  Panasonic  White  41350.0         4.0     4.2     30.00  1.5   \n",
       "\n",
       "     annual_electricity_Consumption  \n",
       "0                            624.48  \n",
       "1                           1123.77  \n",
       "3                            686.48  \n",
       "7                            704.42  \n",
       "8                           1134.28  \n",
       "..                              ...  \n",
       "807                         1049.79  \n",
       "809                         1123.23  \n",
       "811                          824.08  \n",
       "813                         1123.23  \n",
       "815                          962.49  \n",
       "\n",
       "[411 rows x 8 columns]"
      ]
     },
     "execution_count": 119,
     "metadata": {},
     "output_type": "execute_result"
    }
   ],
   "source": [
    "Project"
   ]
  },
  {
   "cell_type": "code",
   "execution_count": 92,
   "id": "79e222cc",
   "metadata": {},
   "outputs": [
    {
     "data": {
      "text/plain": [
       "33.66367137355584"
      ]
     },
     "execution_count": 92,
     "metadata": {},
     "output_type": "execute_result"
    }
   ],
   "source": [
    "Project[\"discount\"].mean()"
   ]
  },
  {
   "cell_type": "code",
   "execution_count": 95,
   "id": "2b313523",
   "metadata": {},
   "outputs": [
    {
     "data": {
      "text/plain": [
       "Brand                               0\n",
       "Color                               0\n",
       "Price                               0\n",
       "no_of_star                          0\n",
       "rating                              0\n",
       "discount                           37\n",
       "Ton                               269\n",
       "annual_electricity_Consumption    204\n",
       "dtype: int64"
      ]
     },
     "execution_count": 95,
     "metadata": {},
     "output_type": "execute_result"
    }
   ],
   "source": [
    "Project.isnull().sum()"
   ]
  },
  {
   "cell_type": "code",
   "execution_count": 106,
   "id": "b231a341",
   "metadata": {},
   "outputs": [],
   "source": []
  },
  {
   "cell_type": "code",
   "execution_count": 112,
   "id": "a01d8322",
   "metadata": {},
   "outputs": [
    {
     "name": "stderr",
     "output_type": "stream",
     "text": [
      "C:\\Users\\Hari D\\AppData\\Local\\Temp\\ipykernel_20968\\334739100.py:1: SettingWithCopyWarning: \n",
      "A value is trying to be set on a copy of a slice from a DataFrame\n",
      "\n",
      "See the caveats in the documentation: https://pandas.pydata.org/pandas-docs/stable/user_guide/indexing.html#returning-a-view-versus-a-copy\n",
      "  Project.discount[Project[\"discount\"].isnull()]=33.66\n"
     ]
    }
   ],
   "source": [
    "Project.discount[Project[\"discount\"].isnull()]=33.66"
   ]
  },
  {
   "cell_type": "code",
   "execution_count": 113,
   "id": "f6142435",
   "metadata": {},
   "outputs": [
    {
     "data": {
      "text/plain": [
       "Brand                               0\n",
       "Color                               0\n",
       "Price                               0\n",
       "no_of_star                          0\n",
       "rating                              0\n",
       "discount                            0\n",
       "Ton                               269\n",
       "annual_electricity_Consumption    204\n",
       "dtype: int64"
      ]
     },
     "execution_count": 113,
     "metadata": {},
     "output_type": "execute_result"
    }
   ],
   "source": [
    "Project.isnull().sum()"
   ]
  },
  {
   "cell_type": "code",
   "execution_count": 117,
   "id": "20f47faa",
   "metadata": {},
   "outputs": [],
   "source": [
    "Project.dropna(how=\"any\",inplace=True)"
   ]
  },
  {
   "cell_type": "code",
   "execution_count": 118,
   "id": "d25b131c",
   "metadata": {},
   "outputs": [
    {
     "data": {
      "text/plain": [
       "Brand                             0\n",
       "Color                             0\n",
       "Price                             0\n",
       "no_of_star                        0\n",
       "rating                            0\n",
       "discount                          0\n",
       "Ton                               0\n",
       "annual_electricity_Consumption    0\n",
       "dtype: int64"
      ]
     },
     "execution_count": 118,
     "metadata": {},
     "output_type": "execute_result"
    }
   ],
   "source": [
    "Project.isnull().sum()"
   ]
  },
  {
   "cell_type": "code",
   "execution_count": 122,
   "id": "4e304e89",
   "metadata": {},
   "outputs": [
    {
     "data": {
      "text/plain": [
       "Brand                              object\n",
       "Color                              object\n",
       "Price                             float64\n",
       "no_of_star                        float64\n",
       "rating                            float64\n",
       "discount                          float64\n",
       "Ton                               float64\n",
       "annual_electricity_Consumption    float64\n",
       "dtype: object"
      ]
     },
     "execution_count": 122,
     "metadata": {},
     "output_type": "execute_result"
    }
   ],
   "source": [
    "Project.dtypes"
   ]
  },
  {
   "cell_type": "code",
   "execution_count": 123,
   "id": "914851e0",
   "metadata": {},
   "outputs": [],
   "source": [
    "Project[\"no_of_star\"]=Project[\"no_of_star\"].astype('int')"
   ]
  },
  {
   "cell_type": "code",
   "execution_count": 124,
   "id": "32fa5a71",
   "metadata": {},
   "outputs": [
    {
     "data": {
      "text/plain": [
       "Brand                              object\n",
       "Color                              object\n",
       "Price                             float64\n",
       "no_of_star                          int32\n",
       "rating                            float64\n",
       "discount                          float64\n",
       "Ton                               float64\n",
       "annual_electricity_Consumption    float64\n",
       "dtype: object"
      ]
     },
     "execution_count": 124,
     "metadata": {},
     "output_type": "execute_result"
    }
   ],
   "source": [
    "Project.dtypes"
   ]
  },
  {
   "cell_type": "code",
   "execution_count": 125,
   "id": "c33925c3",
   "metadata": {},
   "outputs": [
    {
     "data": {
      "text/html": [
       "<div>\n",
       "<style scoped>\n",
       "    .dataframe tbody tr th:only-of-type {\n",
       "        vertical-align: middle;\n",
       "    }\n",
       "\n",
       "    .dataframe tbody tr th {\n",
       "        vertical-align: top;\n",
       "    }\n",
       "\n",
       "    .dataframe thead th {\n",
       "        text-align: right;\n",
       "    }\n",
       "</style>\n",
       "<table border=\"1\" class=\"dataframe\">\n",
       "  <thead>\n",
       "    <tr style=\"text-align: right;\">\n",
       "      <th></th>\n",
       "      <th>Brand</th>\n",
       "      <th>Color</th>\n",
       "      <th>Price</th>\n",
       "      <th>no_of_star</th>\n",
       "      <th>rating</th>\n",
       "      <th>discount</th>\n",
       "      <th>Ton</th>\n",
       "      <th>annual_electricity_Consumption</th>\n",
       "    </tr>\n",
       "  </thead>\n",
       "  <tbody>\n",
       "    <tr>\n",
       "      <th>0</th>\n",
       "      <td>Voltas</td>\n",
       "      <td>White</td>\n",
       "      <td>32490.0</td>\n",
       "      <td>3</td>\n",
       "      <td>4.2</td>\n",
       "      <td>48.00</td>\n",
       "      <td>1.5</td>\n",
       "      <td>624.48</td>\n",
       "    </tr>\n",
       "    <tr>\n",
       "      <th>1</th>\n",
       "      <td>SAMSUNG</td>\n",
       "      <td>White</td>\n",
       "      <td>30490.0</td>\n",
       "      <td>3</td>\n",
       "      <td>4.2</td>\n",
       "      <td>51.00</td>\n",
       "      <td>1.5</td>\n",
       "      <td>1123.77</td>\n",
       "    </tr>\n",
       "    <tr>\n",
       "      <th>3</th>\n",
       "      <td>Haier</td>\n",
       "      <td>White</td>\n",
       "      <td>31990.0</td>\n",
       "      <td>3</td>\n",
       "      <td>4.0</td>\n",
       "      <td>50.00</td>\n",
       "      <td>1.5</td>\n",
       "      <td>686.48</td>\n",
       "    </tr>\n",
       "    <tr>\n",
       "      <th>7</th>\n",
       "      <td>Voltas</td>\n",
       "      <td>White</td>\n",
       "      <td>39490.0</td>\n",
       "      <td>5</td>\n",
       "      <td>4.2</td>\n",
       "      <td>48.00</td>\n",
       "      <td>1.5</td>\n",
       "      <td>704.42</td>\n",
       "    </tr>\n",
       "    <tr>\n",
       "      <th>8</th>\n",
       "      <td>Blue star</td>\n",
       "      <td>White</td>\n",
       "      <td>35900.0</td>\n",
       "      <td>3</td>\n",
       "      <td>4.2</td>\n",
       "      <td>42.00</td>\n",
       "      <td>1.5</td>\n",
       "      <td>1134.28</td>\n",
       "    </tr>\n",
       "    <tr>\n",
       "      <th>...</th>\n",
       "      <td>...</td>\n",
       "      <td>...</td>\n",
       "      <td>...</td>\n",
       "      <td>...</td>\n",
       "      <td>...</td>\n",
       "      <td>...</td>\n",
       "      <td>...</td>\n",
       "      <td>...</td>\n",
       "    </tr>\n",
       "    <tr>\n",
       "      <th>807</th>\n",
       "      <td>SAMSUNG</td>\n",
       "      <td>White</td>\n",
       "      <td>37388.0</td>\n",
       "      <td>3</td>\n",
       "      <td>4.2</td>\n",
       "      <td>18.00</td>\n",
       "      <td>1.5</td>\n",
       "      <td>1049.79</td>\n",
       "    </tr>\n",
       "    <tr>\n",
       "      <th>809</th>\n",
       "      <td>Godrej</td>\n",
       "      <td>White</td>\n",
       "      <td>31900.0</td>\n",
       "      <td>3</td>\n",
       "      <td>3.7</td>\n",
       "      <td>30.00</td>\n",
       "      <td>1.5</td>\n",
       "      <td>1123.23</td>\n",
       "    </tr>\n",
       "    <tr>\n",
       "      <th>811</th>\n",
       "      <td>Daikin</td>\n",
       "      <td>White</td>\n",
       "      <td>53000.0</td>\n",
       "      <td>5</td>\n",
       "      <td>4.2</td>\n",
       "      <td>15.00</td>\n",
       "      <td>1.5</td>\n",
       "      <td>824.08</td>\n",
       "    </tr>\n",
       "    <tr>\n",
       "      <th>813</th>\n",
       "      <td>Haier</td>\n",
       "      <td>White</td>\n",
       "      <td>60890.0</td>\n",
       "      <td>3</td>\n",
       "      <td>4.1</td>\n",
       "      <td>33.66</td>\n",
       "      <td>1.5</td>\n",
       "      <td>1123.23</td>\n",
       "    </tr>\n",
       "    <tr>\n",
       "      <th>815</th>\n",
       "      <td>Panasonic</td>\n",
       "      <td>White</td>\n",
       "      <td>41350.0</td>\n",
       "      <td>4</td>\n",
       "      <td>4.2</td>\n",
       "      <td>30.00</td>\n",
       "      <td>1.5</td>\n",
       "      <td>962.49</td>\n",
       "    </tr>\n",
       "  </tbody>\n",
       "</table>\n",
       "<p>411 rows × 8 columns</p>\n",
       "</div>"
      ],
      "text/plain": [
       "         Brand  Color    Price  no_of_star  rating  discount  Ton  \\\n",
       "0       Voltas  White  32490.0           3     4.2     48.00  1.5   \n",
       "1      SAMSUNG  White  30490.0           3     4.2     51.00  1.5   \n",
       "3        Haier  White  31990.0           3     4.0     50.00  1.5   \n",
       "7       Voltas  White  39490.0           5     4.2     48.00  1.5   \n",
       "8    Blue star  White  35900.0           3     4.2     42.00  1.5   \n",
       "..         ...    ...      ...         ...     ...       ...  ...   \n",
       "807    SAMSUNG  White  37388.0           3     4.2     18.00  1.5   \n",
       "809     Godrej  White  31900.0           3     3.7     30.00  1.5   \n",
       "811     Daikin  White  53000.0           5     4.2     15.00  1.5   \n",
       "813      Haier  White  60890.0           3     4.1     33.66  1.5   \n",
       "815  Panasonic  White  41350.0           4     4.2     30.00  1.5   \n",
       "\n",
       "     annual_electricity_Consumption  \n",
       "0                            624.48  \n",
       "1                           1123.77  \n",
       "3                            686.48  \n",
       "7                            704.42  \n",
       "8                           1134.28  \n",
       "..                              ...  \n",
       "807                         1049.79  \n",
       "809                         1123.23  \n",
       "811                          824.08  \n",
       "813                         1123.23  \n",
       "815                          962.49  \n",
       "\n",
       "[411 rows x 8 columns]"
      ]
     },
     "execution_count": 125,
     "metadata": {},
     "output_type": "execute_result"
    }
   ],
   "source": [
    "Project"
   ]
  },
  {
   "cell_type": "code",
   "execution_count": 126,
   "id": "49b8154c",
   "metadata": {},
   "outputs": [],
   "source": [
    "Project[\"Price\"]=Project[\"Price\"].astype(int)"
   ]
  },
  {
   "cell_type": "code",
   "execution_count": 132,
   "id": "45974830",
   "metadata": {},
   "outputs": [
    {
     "data": {
      "text/plain": [
       "Brand                              object\n",
       "Color                              object\n",
       "Price                               int32\n",
       "no_of_star                          int32\n",
       "rating                            float64\n",
       "discount                          float64\n",
       "Ton                               float64\n",
       "annual_electricity_Consumption    float64\n",
       "dtype: object"
      ]
     },
     "execution_count": 132,
     "metadata": {},
     "output_type": "execute_result"
    }
   ],
   "source": [
    "Project.dtypes"
   ]
  },
  {
   "cell_type": "code",
   "execution_count": 133,
   "id": "c7524d66",
   "metadata": {},
   "outputs": [
    {
     "data": {
      "text/plain": [
       "array([1.5 , 0.75, 0.8 , 1.2 , 1.3 , 1.8 , 1.6 , 0.7 , 1.4 , 2.02, 2.2 ,\n",
       "       1.7 , 1.25])"
      ]
     },
     "execution_count": 133,
     "metadata": {},
     "output_type": "execute_result"
    }
   ],
   "source": [
    "Project.Ton.unique()"
   ]
  },
  {
   "cell_type": "code",
   "execution_count": 134,
   "id": "d71b9741",
   "metadata": {},
   "outputs": [
    {
     "data": {
      "text/html": [
       "<div>\n",
       "<style scoped>\n",
       "    .dataframe tbody tr th:only-of-type {\n",
       "        vertical-align: middle;\n",
       "    }\n",
       "\n",
       "    .dataframe tbody tr th {\n",
       "        vertical-align: top;\n",
       "    }\n",
       "\n",
       "    .dataframe thead th {\n",
       "        text-align: right;\n",
       "    }\n",
       "</style>\n",
       "<table border=\"1\" class=\"dataframe\">\n",
       "  <thead>\n",
       "    <tr style=\"text-align: right;\">\n",
       "      <th></th>\n",
       "      <th>Brand</th>\n",
       "      <th>Color</th>\n",
       "      <th>Price</th>\n",
       "      <th>no_of_star</th>\n",
       "      <th>rating</th>\n",
       "      <th>discount</th>\n",
       "      <th>Ton</th>\n",
       "      <th>annual_electricity_Consumption</th>\n",
       "    </tr>\n",
       "  </thead>\n",
       "  <tbody>\n",
       "    <tr>\n",
       "      <th>0</th>\n",
       "      <td>Voltas</td>\n",
       "      <td>White</td>\n",
       "      <td>32490</td>\n",
       "      <td>3</td>\n",
       "      <td>4.2</td>\n",
       "      <td>48.00</td>\n",
       "      <td>1.5</td>\n",
       "      <td>624.48</td>\n",
       "    </tr>\n",
       "    <tr>\n",
       "      <th>1</th>\n",
       "      <td>SAMSUNG</td>\n",
       "      <td>White</td>\n",
       "      <td>30490</td>\n",
       "      <td>3</td>\n",
       "      <td>4.2</td>\n",
       "      <td>51.00</td>\n",
       "      <td>1.5</td>\n",
       "      <td>1123.77</td>\n",
       "    </tr>\n",
       "    <tr>\n",
       "      <th>3</th>\n",
       "      <td>Haier</td>\n",
       "      <td>White</td>\n",
       "      <td>31990</td>\n",
       "      <td>3</td>\n",
       "      <td>4.0</td>\n",
       "      <td>50.00</td>\n",
       "      <td>1.5</td>\n",
       "      <td>686.48</td>\n",
       "    </tr>\n",
       "    <tr>\n",
       "      <th>7</th>\n",
       "      <td>Voltas</td>\n",
       "      <td>White</td>\n",
       "      <td>39490</td>\n",
       "      <td>5</td>\n",
       "      <td>4.2</td>\n",
       "      <td>48.00</td>\n",
       "      <td>1.5</td>\n",
       "      <td>704.42</td>\n",
       "    </tr>\n",
       "    <tr>\n",
       "      <th>8</th>\n",
       "      <td>Blue star</td>\n",
       "      <td>White</td>\n",
       "      <td>35900</td>\n",
       "      <td>3</td>\n",
       "      <td>4.2</td>\n",
       "      <td>42.00</td>\n",
       "      <td>1.5</td>\n",
       "      <td>1134.28</td>\n",
       "    </tr>\n",
       "    <tr>\n",
       "      <th>...</th>\n",
       "      <td>...</td>\n",
       "      <td>...</td>\n",
       "      <td>...</td>\n",
       "      <td>...</td>\n",
       "      <td>...</td>\n",
       "      <td>...</td>\n",
       "      <td>...</td>\n",
       "      <td>...</td>\n",
       "    </tr>\n",
       "    <tr>\n",
       "      <th>807</th>\n",
       "      <td>SAMSUNG</td>\n",
       "      <td>White</td>\n",
       "      <td>37388</td>\n",
       "      <td>3</td>\n",
       "      <td>4.2</td>\n",
       "      <td>18.00</td>\n",
       "      <td>1.5</td>\n",
       "      <td>1049.79</td>\n",
       "    </tr>\n",
       "    <tr>\n",
       "      <th>809</th>\n",
       "      <td>Godrej</td>\n",
       "      <td>White</td>\n",
       "      <td>31900</td>\n",
       "      <td>3</td>\n",
       "      <td>3.7</td>\n",
       "      <td>30.00</td>\n",
       "      <td>1.5</td>\n",
       "      <td>1123.23</td>\n",
       "    </tr>\n",
       "    <tr>\n",
       "      <th>811</th>\n",
       "      <td>Daikin</td>\n",
       "      <td>White</td>\n",
       "      <td>53000</td>\n",
       "      <td>5</td>\n",
       "      <td>4.2</td>\n",
       "      <td>15.00</td>\n",
       "      <td>1.5</td>\n",
       "      <td>824.08</td>\n",
       "    </tr>\n",
       "    <tr>\n",
       "      <th>813</th>\n",
       "      <td>Haier</td>\n",
       "      <td>White</td>\n",
       "      <td>60890</td>\n",
       "      <td>3</td>\n",
       "      <td>4.1</td>\n",
       "      <td>33.66</td>\n",
       "      <td>1.5</td>\n",
       "      <td>1123.23</td>\n",
       "    </tr>\n",
       "    <tr>\n",
       "      <th>815</th>\n",
       "      <td>Panasonic</td>\n",
       "      <td>White</td>\n",
       "      <td>41350</td>\n",
       "      <td>4</td>\n",
       "      <td>4.2</td>\n",
       "      <td>30.00</td>\n",
       "      <td>1.5</td>\n",
       "      <td>962.49</td>\n",
       "    </tr>\n",
       "  </tbody>\n",
       "</table>\n",
       "<p>411 rows × 8 columns</p>\n",
       "</div>"
      ],
      "text/plain": [
       "         Brand  Color  Price  no_of_star  rating  discount  Ton  \\\n",
       "0       Voltas  White  32490           3     4.2     48.00  1.5   \n",
       "1      SAMSUNG  White  30490           3     4.2     51.00  1.5   \n",
       "3        Haier  White  31990           3     4.0     50.00  1.5   \n",
       "7       Voltas  White  39490           5     4.2     48.00  1.5   \n",
       "8    Blue star  White  35900           3     4.2     42.00  1.5   \n",
       "..         ...    ...    ...         ...     ...       ...  ...   \n",
       "807    SAMSUNG  White  37388           3     4.2     18.00  1.5   \n",
       "809     Godrej  White  31900           3     3.7     30.00  1.5   \n",
       "811     Daikin  White  53000           5     4.2     15.00  1.5   \n",
       "813      Haier  White  60890           3     4.1     33.66  1.5   \n",
       "815  Panasonic  White  41350           4     4.2     30.00  1.5   \n",
       "\n",
       "     annual_electricity_Consumption  \n",
       "0                            624.48  \n",
       "1                           1123.77  \n",
       "3                            686.48  \n",
       "7                            704.42  \n",
       "8                           1134.28  \n",
       "..                              ...  \n",
       "807                         1049.79  \n",
       "809                         1123.23  \n",
       "811                          824.08  \n",
       "813                         1123.23  \n",
       "815                          962.49  \n",
       "\n",
       "[411 rows x 8 columns]"
      ]
     },
     "execution_count": 134,
     "metadata": {},
     "output_type": "execute_result"
    }
   ],
   "source": [
    "Project"
   ]
  },
  {
   "cell_type": "code",
   "execution_count": 135,
   "id": "8c86e0ba",
   "metadata": {},
   "outputs": [
    {
     "name": "stderr",
     "output_type": "stream",
     "text": [
      "C:\\Users\\Hari D\\AppData\\Local\\Temp\\ipykernel_20968\\477535036.py:3: FutureWarning: save is not part of the public API, usage can give unexpected results and will be removed in a future version\n",
      "  ex.save()\n"
     ]
    }
   ],
   "source": [
    "#ex=pd.ExcelWriter(\"New_project.xlsx\")\n",
    "#Project.to_excel(ex,index=False)\n",
    "#ex.save()"
   ]
  },
  {
   "cell_type": "code",
   "execution_count": 138,
   "id": "7648f266",
   "metadata": {},
   "outputs": [
    {
     "data": {
      "text/plain": [
       "Brand                             0\n",
       "Color                             0\n",
       "Price                             0\n",
       "no_of_star                        0\n",
       "rating                            0\n",
       "discount                          0\n",
       "Ton                               0\n",
       "annual_electricity_Consumption    0\n",
       "dtype: int64"
      ]
     },
     "execution_count": 138,
     "metadata": {},
     "output_type": "execute_result"
    }
   ],
   "source": [
    "Project.isnull().sum()"
   ]
  },
  {
   "cell_type": "code",
   "execution_count": null,
   "id": "7226fc27",
   "metadata": {},
   "outputs": [],
   "source": [
    "Project[\"rating\"]=Project[\"rating\"].fillna(Project[\"rating\"].mode()[0])\n",
    "Project.discount[Project[\"discount\"].isnull()]=33.66"
   ]
  },
  {
   "cell_type": "code",
   "execution_count": null,
   "id": "b7e35391",
   "metadata": {},
   "outputs": [],
   "source": []
  },
  {
   "cell_type": "code",
   "execution_count": null,
   "id": "5ef8d325",
   "metadata": {},
   "outputs": [],
   "source": []
  },
  {
   "cell_type": "code",
   "execution_count": null,
   "id": "7d0ad5ad",
   "metadata": {},
   "outputs": [],
   "source": []
  },
  {
   "cell_type": "code",
   "execution_count": null,
   "id": "aa3ebdaf",
   "metadata": {},
   "outputs": [],
   "source": []
  },
  {
   "cell_type": "code",
   "execution_count": null,
   "id": "4d0b4d23",
   "metadata": {},
   "outputs": [],
   "source": []
  },
  {
   "cell_type": "code",
   "execution_count": null,
   "id": "b679e175",
   "metadata": {},
   "outputs": [],
   "source": []
  },
  {
   "cell_type": "code",
   "execution_count": null,
   "id": "18f5d1f4",
   "metadata": {},
   "outputs": [],
   "source": []
  },
  {
   "cell_type": "code",
   "execution_count": null,
   "id": "0b4f12ca",
   "metadata": {},
   "outputs": [],
   "source": []
  }
 ],
 "metadata": {
  "kernelspec": {
   "display_name": "Python 3 (ipykernel)",
   "language": "python",
   "name": "python3"
  },
  "language_info": {
   "codemirror_mode": {
    "name": "ipython",
    "version": 3
   },
   "file_extension": ".py",
   "mimetype": "text/x-python",
   "name": "python",
   "nbconvert_exporter": "python",
   "pygments_lexer": "ipython3",
   "version": "3.11.4"
  }
 },
 "nbformat": 4,
 "nbformat_minor": 5
}
